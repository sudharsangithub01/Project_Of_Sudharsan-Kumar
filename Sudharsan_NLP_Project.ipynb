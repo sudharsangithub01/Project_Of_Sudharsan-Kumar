{
 "cells": [
  {
   "cell_type": "code",
   "execution_count": 1,
   "id": "4f977572",
   "metadata": {},
   "outputs": [],
   "source": [
    "import numpy as np\n",
    "import pandas as pd\n",
    "import re\n",
    "from nltk.corpus import stopwords"
   ]
  },
  {
   "cell_type": "markdown",
   "id": "fb2a13d2",
   "metadata": {},
   "source": [
    "### Loading DataSet"
   ]
  },
  {
   "cell_type": "code",
   "execution_count": 2,
   "id": "a1d2efee",
   "metadata": {},
   "outputs": [
    {
     "data": {
      "text/html": [
       "<div>\n",
       "<style scoped>\n",
       "    .dataframe tbody tr th:only-of-type {\n",
       "        vertical-align: middle;\n",
       "    }\n",
       "\n",
       "    .dataframe tbody tr th {\n",
       "        vertical-align: top;\n",
       "    }\n",
       "\n",
       "    .dataframe thead th {\n",
       "        text-align: right;\n",
       "    }\n",
       "</style>\n",
       "<table border=\"1\" class=\"dataframe\">\n",
       "  <thead>\n",
       "    <tr style=\"text-align: right;\">\n",
       "      <th></th>\n",
       "      <th>id</th>\n",
       "      <th>gender</th>\n",
       "      <th>age</th>\n",
       "      <th>topic</th>\n",
       "      <th>sign</th>\n",
       "      <th>date</th>\n",
       "      <th>text</th>\n",
       "    </tr>\n",
       "  </thead>\n",
       "  <tbody>\n",
       "    <tr>\n",
       "      <th>0</th>\n",
       "      <td>2059027</td>\n",
       "      <td>male</td>\n",
       "      <td>15</td>\n",
       "      <td>Student</td>\n",
       "      <td>Leo</td>\n",
       "      <td>14,May,2004</td>\n",
       "      <td>Info has been found (+/- 100 pages,...</td>\n",
       "    </tr>\n",
       "    <tr>\n",
       "      <th>1</th>\n",
       "      <td>2059027</td>\n",
       "      <td>male</td>\n",
       "      <td>15</td>\n",
       "      <td>Student</td>\n",
       "      <td>Leo</td>\n",
       "      <td>13,May,2004</td>\n",
       "      <td>These are the team members:   Drewe...</td>\n",
       "    </tr>\n",
       "  </tbody>\n",
       "</table>\n",
       "</div>"
      ],
      "text/plain": [
       "        id gender  age    topic sign         date  \\\n",
       "0  2059027   male   15  Student  Leo  14,May,2004   \n",
       "1  2059027   male   15  Student  Leo  13,May,2004   \n",
       "\n",
       "                                                text  \n",
       "0             Info has been found (+/- 100 pages,...  \n",
       "1             These are the team members:   Drewe...  "
      ]
     },
     "execution_count": 2,
     "metadata": {},
     "output_type": "execute_result"
    }
   ],
   "source": [
    "data= pd.read_csv('blogtext.csv')\n",
    "data.head(2)"
   ]
  },
  {
   "cell_type": "code",
   "execution_count": 3,
   "id": "c21878eb",
   "metadata": {},
   "outputs": [
    {
     "data": {
      "text/plain": [
       "id        0\n",
       "gender    0\n",
       "age       0\n",
       "topic     0\n",
       "sign      0\n",
       "date      0\n",
       "text      0\n",
       "dtype: int64"
      ]
     },
     "execution_count": 3,
     "metadata": {},
     "output_type": "execute_result"
    }
   ],
   "source": [
    "# Null Values\n",
    "data.isnull().sum()"
   ]
  },
  {
   "cell_type": "code",
   "execution_count": 4,
   "id": "823a753f",
   "metadata": {},
   "outputs": [
    {
     "data": {
      "text/plain": [
       "(681284, 7)"
      ]
     },
     "execution_count": 4,
     "metadata": {},
     "output_type": "execute_result"
    }
   ],
   "source": [
    "# Shape\n",
    "data.shape"
   ]
  },
  {
   "cell_type": "code",
   "execution_count": 5,
   "id": "9d9412cf",
   "metadata": {},
   "outputs": [],
   "source": [
    "# Temporary Cell\n",
    "# Since data is large, Shrinking data for initial preprocessing and modelling for speeding up the process. \n",
    "\n",
    "data= data.head(5000)"
   ]
  },
  {
   "cell_type": "markdown",
   "id": "4a4f8da2",
   "metadata": {},
   "source": [
    "## Preprocessing the data"
   ]
  },
  {
   "cell_type": "markdown",
   "id": "de9c1b45",
   "metadata": {},
   "source": [
    "### Preprocess rows of the “text” column \n",
    "- a.Remove unwanted characters\n",
    "- b.Convert text to lowercase\n",
    "- c.Remove unwanted spaces\n",
    "- d.Remove stopwords"
   ]
  },
  {
   "cell_type": "code",
   "execution_count": 6,
   "id": "30ab78dd",
   "metadata": {},
   "outputs": [
    {
     "data": {
      "text/plain": [
       "\"             Somehow Coca-Cola has a way of summing up things so well.  In the early 1970s they had as their flagship jingle 'I'd Like to Buy the World a Coke' (to the tune of 'I'd Like to Teach the World to Sing') that pretty much summed up the post-Woodstock era so well.  It didn't add much to sales, but it was a catchy tune.  In Korea Coke's theme is  urlLink Stop Thinking. Feel it.  which pretty much sums up a lot about Korea and Koreans.  (Look at how relaxed that couple is, now that they stopped thinking and started feeling.) Of course they have a high regard for education and math and logic and such, but deep down I think many Koreans really like to work on emotion more than anything else.  Westerners seem to sublimate this moreso, or at least display it in a different way.  Maybe scratch all that...Westerners and Koreans are probably pretty similar, but the context in which we do it is different.  Anyways, if you think you're losing it in Korea just repeat to yourself 'Stop thinking, feel it. Stop thinking, feel it. Stop thinking, feel it.' and everything will be alright.         \""
      ]
     },
     "execution_count": 6,
     "metadata": {},
     "output_type": "execute_result"
    }
   ],
   "source": [
    "## Before Preprocessing\n",
    "data['text'][6]"
   ]
  },
  {
   "cell_type": "code",
   "execution_count": 7,
   "id": "334b18b5",
   "metadata": {},
   "outputs": [
    {
     "name": "stderr",
     "output_type": "stream",
     "text": [
      "C:\\Users\\admin\\AppData\\Local\\Temp/ipykernel_14128/2099607021.py:5: SettingWithCopyWarning: \n",
      "A value is trying to be set on a copy of a slice from a DataFrame\n",
      "\n",
      "See the caveats in the documentation: https://pandas.pydata.org/pandas-docs/stable/user_guide/indexing.html#returning-a-view-versus-a-copy\n",
      "  data['text'][i]= data['text'][i].lower()\n",
      "C:\\Users\\admin\\AppData\\Local\\Temp/ipykernel_14128/2099607021.py:6: SettingWithCopyWarning: \n",
      "A value is trying to be set on a copy of a slice from a DataFrame\n",
      "\n",
      "See the caveats in the documentation: https://pandas.pydata.org/pandas-docs/stable/user_guide/indexing.html#returning-a-view-versus-a-copy\n",
      "  data['text'][i]= data['text'][i].strip()\n",
      "C:\\Users\\admin\\AppData\\Local\\Temp/ipykernel_14128/2099607021.py:7: SettingWithCopyWarning: \n",
      "A value is trying to be set on a copy of a slice from a DataFrame\n",
      "\n",
      "See the caveats in the documentation: https://pandas.pydata.org/pandas-docs/stable/user_guide/indexing.html#returning-a-view-versus-a-copy\n",
      "  data['text'][i]= ' '.join([word for word in data['text'][i].split() if word not in stopwords.words('english')])\n",
      "C:\\Users\\admin\\AppData\\Local\\Temp/ipykernel_14128/2099607021.py:4: SettingWithCopyWarning: \n",
      "A value is trying to be set on a copy of a slice from a DataFrame\n",
      "\n",
      "See the caveats in the documentation: https://pandas.pydata.org/pandas-docs/stable/user_guide/indexing.html#returning-a-view-versus-a-copy\n",
      "  data['text'][i]= re.sub('[^a-zA-Z]+',' ', data['text'][i])\n"
     ]
    }
   ],
   "source": [
    "## Preprocessing\n",
    "\n",
    "for i in range(len(data['text'])):\n",
    "    data['text'][i]= re.sub('[^a-zA-Z]+',' ', data['text'][i])\n",
    "    data['text'][i]= data['text'][i].lower()\n",
    "    data['text'][i]= data['text'][i].strip()\n",
    "    data['text'][i]= ' '.join([word for word in data['text'][i].split() if word not in stopwords.words('english')])"
   ]
  },
  {
   "cell_type": "code",
   "execution_count": 8,
   "id": "4d6a2f64",
   "metadata": {},
   "outputs": [
    {
     "data": {
      "text/plain": [
       "'somehow coca cola way summing things well early flagship jingle like buy world coke tune like teach world sing pretty much summed post woodstock era well add much sales catchy tune korea coke theme urllink stop thinking feel pretty much sums lot korea koreans look relaxed couple stopped thinking started feeling course high regard education math logic deep think many koreans really like work emotion anything else westerners seem sublimate moreso least display different way maybe scratch westerners koreans probably pretty similar context different anyways think losing korea repeat stop thinking feel stop thinking feel stop thinking feel everything alright'"
      ]
     },
     "execution_count": 8,
     "metadata": {},
     "output_type": "execute_result"
    }
   ],
   "source": [
    "## After Preprocessing\n",
    "data['text'][6]"
   ]
  },
  {
   "cell_type": "markdown",
   "id": "38ec6445",
   "metadata": {},
   "source": [
    "### Merging multiple columns to a single variable(Dependent Variable) :"
   ]
  },
  {
   "cell_type": "code",
   "execution_count": 9,
   "id": "efe397cc",
   "metadata": {},
   "outputs": [],
   "source": [
    "data['Labels'] = data.apply(lambda row: [row['gender'], str(row['age']), row['topic'], row['sign']], axis=1)"
   ]
  },
  {
   "cell_type": "code",
   "execution_count": 10,
   "id": "390fa82d",
   "metadata": {},
   "outputs": [
    {
     "data": {
      "text/html": [
       "<div>\n",
       "<style scoped>\n",
       "    .dataframe tbody tr th:only-of-type {\n",
       "        vertical-align: middle;\n",
       "    }\n",
       "\n",
       "    .dataframe tbody tr th {\n",
       "        vertical-align: top;\n",
       "    }\n",
       "\n",
       "    .dataframe thead th {\n",
       "        text-align: right;\n",
       "    }\n",
       "</style>\n",
       "<table border=\"1\" class=\"dataframe\">\n",
       "  <thead>\n",
       "    <tr style=\"text-align: right;\">\n",
       "      <th></th>\n",
       "      <th>text</th>\n",
       "      <th>Labels</th>\n",
       "    </tr>\n",
       "  </thead>\n",
       "  <tbody>\n",
       "    <tr>\n",
       "      <th>0</th>\n",
       "      <td>info found pages mb pdf files wait untill team...</td>\n",
       "      <td>[male, 15, Student, Leo]</td>\n",
       "    </tr>\n",
       "    <tr>\n",
       "      <th>1</th>\n",
       "      <td>team members drewes van der laag urllink mail ...</td>\n",
       "      <td>[male, 15, Student, Leo]</td>\n",
       "    </tr>\n",
       "  </tbody>\n",
       "</table>\n",
       "</div>"
      ],
      "text/plain": [
       "                                                text                    Labels\n",
       "0  info found pages mb pdf files wait untill team...  [male, 15, Student, Leo]\n",
       "1  team members drewes van der laag urllink mail ...  [male, 15, Student, Leo]"
      ]
     },
     "execution_count": 10,
     "metadata": {},
     "output_type": "execute_result"
    }
   ],
   "source": [
    "## Selecting only the required columns \n",
    "\n",
    "df= data[['text','Labels']]\n",
    "df.head(2)"
   ]
  },
  {
   "cell_type": "markdown",
   "id": "2e838d67",
   "metadata": {},
   "source": [
    "### Train Test Split"
   ]
  },
  {
   "cell_type": "code",
   "execution_count": 11,
   "id": "636066d2",
   "metadata": {},
   "outputs": [],
   "source": [
    "from sklearn.model_selection import train_test_split\n",
    "X_train, X_test, y_train, y_test = train_test_split(df['text'].values, df['Labels'].values, test_size=0.20, random_state=100)"
   ]
  },
  {
   "cell_type": "markdown",
   "id": "dc58b83a",
   "metadata": {},
   "source": [
    "### Data Vectorizing "
   ]
  },
  {
   "cell_type": "code",
   "execution_count": 12,
   "id": "fa42ed96",
   "metadata": {},
   "outputs": [],
   "source": [
    "## Creating a Bag of Words using count vectorizer\n",
    "\n",
    "from sklearn.feature_extraction.text import CountVectorizer\n",
    "\n",
    "vectorizer = CountVectorizer(binary=True, ngram_range=(1, 2))\n",
    "X_train_bow = vectorizer.fit_transform(X_train)\n",
    "X_test_bow = vectorizer.transform(X_test)"
   ]
  },
  {
   "cell_type": "code",
   "execution_count": 13,
   "id": "95da4baa",
   "metadata": {},
   "outputs": [
    {
     "name": "stderr",
     "output_type": "stream",
     "text": [
      "C:\\Users\\admin\\anaconda3\\lib\\site-packages\\sklearn\\utils\\deprecation.py:87: FutureWarning: Function get_feature_names is deprecated; get_feature_names is deprecated in 1.0 and will be removed in 1.2. Please use get_feature_names_out instead.\n",
      "  warnings.warn(msg, category=FutureWarning)\n"
     ]
    },
    {
     "data": {
      "text/plain": [
       "['aa', 'aa amazing', 'aa compared', 'aa nice', 'aaa']"
      ]
     },
     "execution_count": 13,
     "metadata": {},
     "output_type": "execute_result"
    }
   ],
   "source": [
    "vectorizer.get_feature_names()[:5]"
   ]
  },
  {
   "cell_type": "code",
   "execution_count": 14,
   "id": "597f9a5e",
   "metadata": {},
   "outputs": [
    {
     "data": {
      "text/plain": [
       "array([[0, 0, 0, ..., 0, 0, 0],\n",
       "       [0, 0, 0, ..., 0, 0, 0],\n",
       "       [0, 0, 0, ..., 0, 0, 0],\n",
       "       ...,\n",
       "       [0, 0, 0, ..., 0, 0, 0],\n",
       "       [0, 0, 0, ..., 0, 0, 0],\n",
       "       [0, 0, 0, ..., 0, 0, 0]], dtype=int64)"
      ]
     },
     "execution_count": 14,
     "metadata": {},
     "output_type": "execute_result"
    }
   ],
   "source": [
    "## Term Document Matrix\n",
    "X_train_bow.toarray()"
   ]
  },
  {
   "cell_type": "markdown",
   "id": "d717aed4",
   "metadata": {},
   "source": [
    "### Dictionary to get label counts"
   ]
  },
  {
   "cell_type": "code",
   "execution_count": 15,
   "id": "93a0fd4e",
   "metadata": {},
   "outputs": [
    {
     "data": {
      "text/plain": [
       "{'male': 3294,\n",
       " '15': 339,\n",
       " 'Student': 569,\n",
       " 'Leo': 190,\n",
       " '33': 101,\n",
       " 'InvestmentBanking': 70,\n",
       " 'Aquarius': 329,\n",
       " 'female': 1706,\n",
       " '14': 170,\n",
       " 'indUnk': 1381,\n",
       " 'Aries': 2483,\n",
       " '25': 268,\n",
       " 'Capricorn': 84,\n",
       " '17': 331,\n",
       " 'Gemini': 86,\n",
       " '23': 137,\n",
       " 'Non-Profit': 47,\n",
       " 'Cancer': 94,\n",
       " 'Banking': 16,\n",
       " '37': 19,\n",
       " 'Sagittarius': 704,\n",
       " '26': 96,\n",
       " '24': 353,\n",
       " 'Scorpio': 408,\n",
       " '27': 86,\n",
       " 'Education': 118,\n",
       " '45': 14,\n",
       " 'Engineering': 119,\n",
       " 'Libra': 414,\n",
       " 'Science': 33,\n",
       " '34': 540,\n",
       " '41': 14,\n",
       " 'Communications-Media': 61,\n",
       " 'BusinessServices': 87,\n",
       " 'Sports-Recreation': 75,\n",
       " 'Virgo': 41,\n",
       " 'Taurus': 100,\n",
       " 'Arts': 31,\n",
       " 'Pisces': 67,\n",
       " '44': 3,\n",
       " '16': 67,\n",
       " 'Internet': 20,\n",
       " 'Museums-Libraries': 2,\n",
       " 'Accounting': 2,\n",
       " '39': 79,\n",
       " '35': 2307,\n",
       " 'Technology': 2332,\n",
       " '36': 60,\n",
       " 'Law': 3,\n",
       " '46': 7,\n",
       " 'Consulting': 16,\n",
       " 'Automotive': 14,\n",
       " '42': 9,\n",
       " 'Religion': 4}"
      ]
     },
     "execution_count": 15,
     "metadata": {},
     "output_type": "execute_result"
    }
   ],
   "source": [
    "label_counts = dict()\n",
    "\n",
    "for Labels in df.Labels.values:\n",
    "    for label in Labels:\n",
    "        if label in label_counts:\n",
    "            label_counts[label] += 1\n",
    "        else:\n",
    "            label_counts[label] = 1\n",
    "            \n",
    "label_counts"
   ]
  },
  {
   "cell_type": "markdown",
   "id": "e162217d",
   "metadata": {},
   "source": [
    "### Multi Label Binarizer "
   ]
  },
  {
   "cell_type": "markdown",
   "id": "62f8fb6e",
   "metadata": {},
   "source": [
    "After analyzing the Y variable, in this task each example can have multiple tags. To deal with such kind of prediction, we need to transform labels in a binary form and the prediction will be a mask of 0s and 1s. For this purpose, it is convenient to use MultiLabelBinarizerfrom sklearn"
   ]
  },
  {
   "cell_type": "code",
   "execution_count": 16,
   "id": "77874512",
   "metadata": {},
   "outputs": [
    {
     "data": {
      "text/plain": [
       "array([list(['female', '42', 'Consulting', 'Leo']),\n",
       "       list(['female', '26', 'Accounting', 'Aquarius'])], dtype=object)"
      ]
     },
     "execution_count": 16,
     "metadata": {},
     "output_type": "execute_result"
    }
   ],
   "source": [
    "## Before Binarization\n",
    "y_train[:2]"
   ]
  },
  {
   "cell_type": "code",
   "execution_count": 17,
   "id": "e4e0f0d8",
   "metadata": {},
   "outputs": [],
   "source": [
    "from sklearn.preprocessing import MultiLabelBinarizer\n",
    "\n",
    "mlb = MultiLabelBinarizer(classes=sorted(label_counts.keys()))\n",
    "y_train = mlb.fit_transform(y_train)\n",
    "y_test = mlb.transform(y_test)"
   ]
  },
  {
   "cell_type": "code",
   "execution_count": 18,
   "id": "c4841c32",
   "metadata": {},
   "outputs": [
    {
     "data": {
      "text/plain": [
       "array([[0, 0, 0, 0, 0, 0, 0, 0, 0, 0, 0, 0, 0, 0, 0, 0, 1, 0, 0, 0, 0, 0,\n",
       "        0, 0, 0, 0, 0, 0, 0, 0, 1, 0, 0, 0, 0, 0, 0, 1, 0, 0, 0, 0, 0, 0,\n",
       "        0, 0, 0, 0, 0, 0, 0, 1, 0, 0],\n",
       "       [0, 0, 0, 0, 0, 0, 0, 1, 0, 0, 0, 0, 0, 0, 0, 0, 0, 0, 0, 0, 1, 1,\n",
       "        0, 0, 0, 0, 0, 0, 0, 0, 0, 0, 0, 0, 0, 0, 0, 0, 0, 0, 0, 0, 0, 0,\n",
       "        0, 0, 0, 0, 0, 0, 0, 1, 0, 0]])"
      ]
     },
     "execution_count": 18,
     "metadata": {},
     "output_type": "execute_result"
    }
   ],
   "source": [
    "## After Binarization\n",
    "y_train[:2]"
   ]
  },
  {
   "cell_type": "markdown",
   "id": "2ed2607f",
   "metadata": {},
   "source": [
    "### Classifier"
   ]
  },
  {
   "cell_type": "markdown",
   "id": "345b61d9",
   "metadata": {},
   "source": [
    "In this task, I am using the One-vs-Rest approach, which is implemented in OneVsRestClassifier class. In this approach k classifiers (= number of tags) are trained."
   ]
  },
  {
   "cell_type": "code",
   "execution_count": 19,
   "id": "312c0273",
   "metadata": {},
   "outputs": [],
   "source": [
    "from sklearn.multiclass import OneVsRestClassifier\n",
    "from sklearn.linear_model import LogisticRegression"
   ]
  },
  {
   "cell_type": "code",
   "execution_count": 20,
   "id": "75a22ebd",
   "metadata": {},
   "outputs": [],
   "source": [
    "clf = LogisticRegression(solver='lbfgs')\n",
    "clf = OneVsRestClassifier(clf)"
   ]
  },
  {
   "cell_type": "code",
   "execution_count": 21,
   "id": "ee795b0b",
   "metadata": {},
   "outputs": [
    {
     "data": {
      "text/html": [
       "<style>#sk-container-id-1 {color: black;background-color: white;}#sk-container-id-1 pre{padding: 0;}#sk-container-id-1 div.sk-toggleable {background-color: white;}#sk-container-id-1 label.sk-toggleable__label {cursor: pointer;display: block;width: 100%;margin-bottom: 0;padding: 0.3em;box-sizing: border-box;text-align: center;}#sk-container-id-1 label.sk-toggleable__label-arrow:before {content: \"▸\";float: left;margin-right: 0.25em;color: #696969;}#sk-container-id-1 label.sk-toggleable__label-arrow:hover:before {color: black;}#sk-container-id-1 div.sk-estimator:hover label.sk-toggleable__label-arrow:before {color: black;}#sk-container-id-1 div.sk-toggleable__content {max-height: 0;max-width: 0;overflow: hidden;text-align: left;background-color: #f0f8ff;}#sk-container-id-1 div.sk-toggleable__content pre {margin: 0.2em;color: black;border-radius: 0.25em;background-color: #f0f8ff;}#sk-container-id-1 input.sk-toggleable__control:checked~div.sk-toggleable__content {max-height: 200px;max-width: 100%;overflow: auto;}#sk-container-id-1 input.sk-toggleable__control:checked~label.sk-toggleable__label-arrow:before {content: \"▾\";}#sk-container-id-1 div.sk-estimator input.sk-toggleable__control:checked~label.sk-toggleable__label {background-color: #d4ebff;}#sk-container-id-1 div.sk-label input.sk-toggleable__control:checked~label.sk-toggleable__label {background-color: #d4ebff;}#sk-container-id-1 input.sk-hidden--visually {border: 0;clip: rect(1px 1px 1px 1px);clip: rect(1px, 1px, 1px, 1px);height: 1px;margin: -1px;overflow: hidden;padding: 0;position: absolute;width: 1px;}#sk-container-id-1 div.sk-estimator {font-family: monospace;background-color: #f0f8ff;border: 1px dotted black;border-radius: 0.25em;box-sizing: border-box;margin-bottom: 0.5em;}#sk-container-id-1 div.sk-estimator:hover {background-color: #d4ebff;}#sk-container-id-1 div.sk-parallel-item::after {content: \"\";width: 100%;border-bottom: 1px solid gray;flex-grow: 1;}#sk-container-id-1 div.sk-label:hover label.sk-toggleable__label {background-color: #d4ebff;}#sk-container-id-1 div.sk-serial::before {content: \"\";position: absolute;border-left: 1px solid gray;box-sizing: border-box;top: 0;bottom: 0;left: 50%;z-index: 0;}#sk-container-id-1 div.sk-serial {display: flex;flex-direction: column;align-items: center;background-color: white;padding-right: 0.2em;padding-left: 0.2em;position: relative;}#sk-container-id-1 div.sk-item {position: relative;z-index: 1;}#sk-container-id-1 div.sk-parallel {display: flex;align-items: stretch;justify-content: center;background-color: white;position: relative;}#sk-container-id-1 div.sk-item::before, #sk-container-id-1 div.sk-parallel-item::before {content: \"\";position: absolute;border-left: 1px solid gray;box-sizing: border-box;top: 0;bottom: 0;left: 50%;z-index: -1;}#sk-container-id-1 div.sk-parallel-item {display: flex;flex-direction: column;z-index: 1;position: relative;background-color: white;}#sk-container-id-1 div.sk-parallel-item:first-child::after {align-self: flex-end;width: 50%;}#sk-container-id-1 div.sk-parallel-item:last-child::after {align-self: flex-start;width: 50%;}#sk-container-id-1 div.sk-parallel-item:only-child::after {width: 0;}#sk-container-id-1 div.sk-dashed-wrapped {border: 1px dashed gray;margin: 0 0.4em 0.5em 0.4em;box-sizing: border-box;padding-bottom: 0.4em;background-color: white;}#sk-container-id-1 div.sk-label label {font-family: monospace;font-weight: bold;display: inline-block;line-height: 1.2em;}#sk-container-id-1 div.sk-label-container {text-align: center;}#sk-container-id-1 div.sk-container {/* jupyter's `normalize.less` sets `[hidden] { display: none; }` but bootstrap.min.css set `[hidden] { display: none !important; }` so we also need the `!important` here to be able to override the default hidden behavior on the sphinx rendered scikit-learn.org. See: https://github.com/scikit-learn/scikit-learn/issues/21755 */display: inline-block !important;position: relative;}#sk-container-id-1 div.sk-text-repr-fallback {display: none;}</style><div id=\"sk-container-id-1\" class=\"sk-top-container\"><div class=\"sk-text-repr-fallback\"><pre>OneVsRestClassifier(estimator=LogisticRegression())</pre><b>In a Jupyter environment, please rerun this cell to show the HTML representation or trust the notebook. <br />On GitHub, the HTML representation is unable to render, please try loading this page with nbviewer.org.</b></div><div class=\"sk-container\" hidden><div class=\"sk-item sk-dashed-wrapped\"><div class=\"sk-label-container\"><div class=\"sk-label sk-toggleable\"><input class=\"sk-toggleable__control sk-hidden--visually\" id=\"sk-estimator-id-1\" type=\"checkbox\" ><label for=\"sk-estimator-id-1\" class=\"sk-toggleable__label sk-toggleable__label-arrow\">OneVsRestClassifier</label><div class=\"sk-toggleable__content\"><pre>OneVsRestClassifier(estimator=LogisticRegression())</pre></div></div></div><div class=\"sk-parallel\"><div class=\"sk-parallel-item\"><div class=\"sk-item\"><div class=\"sk-label-container\"><div class=\"sk-label sk-toggleable\"><input class=\"sk-toggleable__control sk-hidden--visually\" id=\"sk-estimator-id-2\" type=\"checkbox\" ><label for=\"sk-estimator-id-2\" class=\"sk-toggleable__label sk-toggleable__label-arrow\">estimator: LogisticRegression</label><div class=\"sk-toggleable__content\"><pre>LogisticRegression()</pre></div></div></div><div class=\"sk-serial\"><div class=\"sk-item\"><div class=\"sk-estimator sk-toggleable\"><input class=\"sk-toggleable__control sk-hidden--visually\" id=\"sk-estimator-id-3\" type=\"checkbox\" ><label for=\"sk-estimator-id-3\" class=\"sk-toggleable__label sk-toggleable__label-arrow\">LogisticRegression</label><div class=\"sk-toggleable__content\"><pre>LogisticRegression()</pre></div></div></div></div></div></div></div></div></div></div>"
      ],
      "text/plain": [
       "OneVsRestClassifier(estimator=LogisticRegression())"
      ]
     },
     "execution_count": 21,
     "metadata": {},
     "output_type": "execute_result"
    }
   ],
   "source": [
    "clf.fit(X_train_bow, y_train)"
   ]
  },
  {
   "cell_type": "markdown",
   "id": "2ae57f59",
   "metadata": {},
   "source": [
    "### Getting predicted labels and scores"
   ]
  },
  {
   "cell_type": "code",
   "execution_count": 22,
   "id": "95e275df",
   "metadata": {},
   "outputs": [],
   "source": [
    "predicted_labels = clf.predict(X_test_bow)\n",
    "predicted_scores = clf.decision_function(X_test_bow)"
   ]
  },
  {
   "cell_type": "code",
   "execution_count": 23,
   "id": "f03bbf3f",
   "metadata": {},
   "outputs": [
    {
     "data": {
      "text/plain": [
       "array([[0, 0, 0, 0, 0, 0, 0, 0, 0, 0, 0, 0, 0, 0, 0, 0, 0, 0, 0, 0, 0, 0,\n",
       "        0, 0, 0, 0, 0, 0, 0, 0, 0, 0, 0, 0, 0, 0, 0, 0, 0, 0, 0, 0, 0, 0,\n",
       "        0, 0, 0, 0, 0, 0, 0, 1, 1, 0],\n",
       "       [0, 0, 0, 0, 0, 0, 0, 0, 0, 0, 0, 0, 0, 0, 0, 0, 0, 0, 0, 0, 0, 0,\n",
       "        0, 0, 0, 0, 0, 0, 0, 0, 0, 0, 0, 0, 0, 0, 0, 0, 0, 0, 0, 0, 0, 0,\n",
       "        0, 0, 0, 0, 0, 0, 0, 0, 0, 1]])"
      ]
     },
     "execution_count": 23,
     "metadata": {},
     "output_type": "execute_result"
    }
   ],
   "source": [
    "predicted_labels[:2]"
   ]
  },
  {
   "cell_type": "code",
   "execution_count": 24,
   "id": "d4a1397d",
   "metadata": {},
   "outputs": [
    {
     "data": {
      "text/plain": [
       "array([[ -4.35763291,  -4.16537719,  -6.47815738,  -4.56217586,\n",
       "         -2.05272526,  -4.69083938,  -2.26838023,  -4.65678327,\n",
       "         -5.4042077 ,  -6.96797421,  -5.32000014,  -8.56615387,\n",
       "         -8.54807924,  -7.49693435,  -5.08428146,  -8.2857153 ,\n",
       "         -8.48265852, -10.04151287,  -6.93716006,  -8.29744248,\n",
       "        -10.86793853,  -2.46483144,  -7.15782527,  -6.28503204,\n",
       "         -8.35432488,  -7.24938042,  -6.58330536,  -4.7580706 ,\n",
       "         -6.90778002,  -5.01287559,  -7.04468294,  -5.10962176,\n",
       "         -5.32402546,  -5.51613628,  -7.5710669 ,  -8.08980942,\n",
       "        -10.72837661,  -4.54511632,  -1.66671687,  -9.71072468,\n",
       "         -5.60414139,  -8.53584986, -10.32915179,  -1.73194196,\n",
       "         -7.48690553,  -4.28866398,  -7.23585881,  -3.32036021,\n",
       "         -5.21967627,  -8.918888  ,  -7.45723978,   1.55967097,\n",
       "          0.82457309,  -1.55967097],\n",
       "       [ -6.32021202,  -6.08873491,  -6.72941572,  -6.33720074,\n",
       "         -6.23390015,  -5.76439985,  -4.96958885,  -5.69148203,\n",
       "         -6.66515988,  -6.69123866,  -3.54976368,  -1.00167862,\n",
       "         -8.18515339,  -8.03271088,  -5.94011199,  -8.6263426 ,\n",
       "         -9.54604738, -10.33435178,  -7.29570089,  -8.62001216,\n",
       "        -10.36989411,  -5.87557159,  -0.20677971,  -8.13682174,\n",
       "         -8.23794519,  -7.31141271,  -7.0259693 ,  -5.89875587,\n",
       "         -7.03954522,  -6.02663163,  -8.33130389,  -6.33934626,\n",
       "         -7.54397436,  -6.9007481 ,  -8.55010251,  -7.93377733,\n",
       "        -10.67883525,  -5.23164369,  -4.70470239,  -9.5161047 ,\n",
       "         -6.28356383,  -8.36295335,  -9.76606608,  -3.66208774,\n",
       "         -7.8891101 ,  -4.94700513,  -7.18296329,  -6.61769643,\n",
       "         -8.22049373,  -0.96898363,  -7.51734632,  -0.99018618,\n",
       "         -1.31558159,   0.99018618]])"
      ]
     },
     "execution_count": 24,
     "metadata": {},
     "output_type": "execute_result"
    }
   ],
   "source": [
    "predicted_scores[:2]"
   ]
  },
  {
   "cell_type": "markdown",
   "id": "1b2632cd",
   "metadata": {},
   "source": [
    "### Get inverse transform for predicted labels and test labels"
   ]
  },
  {
   "cell_type": "code",
   "execution_count": 25,
   "id": "70278cd5",
   "metadata": {},
   "outputs": [],
   "source": [
    "pred_inversed = mlb.inverse_transform(predicted_labels)\n",
    "y_test_inversed = mlb.inverse_transform(y_test)"
   ]
  },
  {
   "cell_type": "code",
   "execution_count": 26,
   "id": "e353d45d",
   "metadata": {},
   "outputs": [
    {
     "data": {
      "text/plain": [
       "[('female', 'indUnk'), ('male',)]"
      ]
     },
     "execution_count": 26,
     "metadata": {},
     "output_type": "execute_result"
    }
   ],
   "source": [
    "pred_inversed[:2]"
   ]
  },
  {
   "cell_type": "code",
   "execution_count": 27,
   "id": "be584cd6",
   "metadata": {},
   "outputs": [
    {
     "data": {
      "text/plain": [
       "[('23', 'Sagittarius', 'indUnk', 'male'),\n",
       " ('35', 'Aries', 'Technology', 'male')]"
      ]
     },
     "execution_count": 27,
     "metadata": {},
     "output_type": "execute_result"
    }
   ],
   "source": [
    "y_test_inversed[:2]"
   ]
  },
  {
   "cell_type": "markdown",
   "id": "7c209b5c",
   "metadata": {},
   "source": [
    "### Sample Predictions"
   ]
  },
  {
   "cell_type": "code",
   "execution_count": 28,
   "id": "cc6c1325",
   "metadata": {},
   "outputs": [
    {
     "name": "stdout",
     "output_type": "stream",
     "text": [
      "Title:\tpeople live one place anymore nbsp got morning erik called moving austin helped moving frenzy drove austin u haul one tires erik car exploded bastrop area got back college station went revolution inok farewell night muddy hot music enjoyable went ihop found really crowded good yupe time semester people say goodbyes old friends hellos new friends wish lucks friends leaving places new beginning careers lifes always college station nbsp nbsp nbsp nbsp know\n",
      "True labels:\t23,Sagittarius,indUnk,male\n",
      "Predicted labels:\tfemale,indUnk\n",
      "\n",
      "\n",
      "Title:\tthought would share something online journal bouncy bouncy thinking johnathan friends life feel ways accomplished little remembered johnathan probably smartest person know started master program spending next five years getting phd inspiring english professor see imagine anything else yet years old think less think sometimes takes longer us reach destination perhaps find right fork road\n",
      "True labels:\t35,Aries,Technology,male\n",
      "Predicted labels:\tmale\n",
      "\n",
      "\n",
      "Title:\tnothing done hair blue black hair many months curse destiny like farmer son broke leg shall see friends shall see\n",
      "True labels:\t35,Aries,Technology,male\n",
      "Predicted labels:\t35,Aries,Technology,male\n",
      "\n",
      "\n"
     ]
    }
   ],
   "source": [
    "for i in range(3):\n",
    "    print('Title:\\t{}\\nTrue labels:\\t{}\\nPredicted labels:\\t{}\\n\\n'.format(\n",
    "        X_test[i],\n",
    "        ','.join(y_test_inversed[i]),\n",
    "        ','.join(pred_inversed[i])\n",
    "    ))"
   ]
  },
  {
   "cell_type": "markdown",
   "id": "626dacd3",
   "metadata": {},
   "source": [
    "## Calculate accuracy\n",
    "- Accuracy\n",
    "- F1-score\n",
    "- Precision\n",
    "- Recall"
   ]
  },
  {
   "cell_type": "code",
   "execution_count": 29,
   "id": "8096699a",
   "metadata": {},
   "outputs": [],
   "source": [
    "from sklearn.metrics import accuracy_score, f1_score, average_precision_score, recall_score\n",
    "\n",
    "def print_evaluation_scores(y_val, predicted):\n",
    "    print('Accuracy score: ', accuracy_score(y_val, predicted))\n",
    "    print('F1 score: ', f1_score(y_val, predicted, average='micro'))\n",
    "    print('Average precision score: ', average_precision_score(y_val, predicted, average='micro'))\n",
    "    print('Average recall score: ', recall_score(y_val, predicted, average='micro'))\n"
   ]
  },
  {
   "cell_type": "code",
   "execution_count": 30,
   "id": "1275f0b2",
   "metadata": {},
   "outputs": [
    {
     "name": "stdout",
     "output_type": "stream",
     "text": [
      "Bag-of-words\n",
      "Accuracy score:  0.534\n",
      "F1 score:  0.7354712225178547\n",
      "Average precision score:  0.5743043616682586\n",
      "Average recall score:  0.6565\n"
     ]
    }
   ],
   "source": [
    "print('Bag-of-words')\n",
    "print_evaluation_scores(y_test, predicted_labels)"
   ]
  },
  {
   "cell_type": "code",
   "execution_count": null,
   "id": "b7a37383",
   "metadata": {},
   "outputs": [],
   "source": []
  }
 ],
 "metadata": {
  "kernelspec": {
   "display_name": "Python 3 (ipykernel)",
   "language": "python",
   "name": "python3"
  },
  "language_info": {
   "codemirror_mode": {
    "name": "ipython",
    "version": 3
   },
   "file_extension": ".py",
   "mimetype": "text/x-python",
   "name": "python",
   "nbconvert_exporter": "python",
   "pygments_lexer": "ipython3",
   "version": "3.9.7"
  }
 },
 "nbformat": 4,
 "nbformat_minor": 5
}
