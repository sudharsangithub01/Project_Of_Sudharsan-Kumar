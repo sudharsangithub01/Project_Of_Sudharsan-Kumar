{
 "cells": [
  {
   "cell_type": "markdown",
   "metadata": {},
   "source": [
    "# Case Study - Analyse the data of quarterly shipments transfer of a certain courier company in the $20^{th}$ century."
   ]
  },
  {
   "cell_type": "markdown",
   "metadata": {},
   "source": [
    "#### Basic Libraries import"
   ]
  },
  {
   "cell_type": "code",
   "execution_count": 1,
   "metadata": {},
   "outputs": [],
   "source": [
    "import pandas as pd\n",
    "import numpy as np\n",
    "import matplotlib.pyplot as plt\n",
    "import seaborn as sns\n",
    "from statsmodels.tsa.seasonal import seasonal_decompose"
   ]
  },
  {
   "cell_type": "markdown",
   "metadata": {},
   "source": [
    "## 1. Read the data in a quarterly Time Series Format."
   ]
  },
  {
   "cell_type": "code",
   "execution_count": 51,
   "metadata": {},
   "outputs": [
    {
     "data": {
      "text/html": [
       "<div>\n",
       "<style scoped>\n",
       "    .dataframe tbody tr th:only-of-type {\n",
       "        vertical-align: middle;\n",
       "    }\n",
       "\n",
       "    .dataframe tbody tr th {\n",
       "        vertical-align: top;\n",
       "    }\n",
       "\n",
       "    .dataframe thead th {\n",
       "        text-align: right;\n",
       "    }\n",
       "</style>\n",
       "<table border=\"1\" class=\"dataframe\">\n",
       "  <thead>\n",
       "    <tr style=\"text-align: right;\">\n",
       "      <th></th>\n",
       "      <th>Quarter</th>\n",
       "      <th>Shipments</th>\n",
       "    </tr>\n",
       "    <tr>\n",
       "      <th>Year</th>\n",
       "      <th></th>\n",
       "      <th></th>\n",
       "    </tr>\n",
       "  </thead>\n",
       "  <tbody>\n",
       "    <tr>\n",
       "      <th>1985-01-01</th>\n",
       "      <td>Q1</td>\n",
       "      <td>4009</td>\n",
       "    </tr>\n",
       "    <tr>\n",
       "      <th>1985-01-01</th>\n",
       "      <td>Q2</td>\n",
       "      <td>4321</td>\n",
       "    </tr>\n",
       "    <tr>\n",
       "      <th>1985-01-01</th>\n",
       "      <td>Q3</td>\n",
       "      <td>4224</td>\n",
       "    </tr>\n",
       "    <tr>\n",
       "      <th>1985-01-01</th>\n",
       "      <td>Q4</td>\n",
       "      <td>3944</td>\n",
       "    </tr>\n",
       "    <tr>\n",
       "      <th>1986-01-01</th>\n",
       "      <td>Q1</td>\n",
       "      <td>4123</td>\n",
       "    </tr>\n",
       "    <tr>\n",
       "      <th>1986-01-01</th>\n",
       "      <td>Q2</td>\n",
       "      <td>4522</td>\n",
       "    </tr>\n",
       "    <tr>\n",
       "      <th>1986-01-01</th>\n",
       "      <td>Q3</td>\n",
       "      <td>4657</td>\n",
       "    </tr>\n",
       "    <tr>\n",
       "      <th>1986-01-01</th>\n",
       "      <td>Q4</td>\n",
       "      <td>4030</td>\n",
       "    </tr>\n",
       "    <tr>\n",
       "      <th>1987-01-01</th>\n",
       "      <td>Q1</td>\n",
       "      <td>4493</td>\n",
       "    </tr>\n",
       "    <tr>\n",
       "      <th>1987-01-01</th>\n",
       "      <td>Q2</td>\n",
       "      <td>4806</td>\n",
       "    </tr>\n",
       "    <tr>\n",
       "      <th>1987-01-01</th>\n",
       "      <td>Q3</td>\n",
       "      <td>4551</td>\n",
       "    </tr>\n",
       "    <tr>\n",
       "      <th>1987-01-01</th>\n",
       "      <td>Q4</td>\n",
       "      <td>4485</td>\n",
       "    </tr>\n",
       "    <tr>\n",
       "      <th>1998-01-01</th>\n",
       "      <td>Q1</td>\n",
       "      <td>4595</td>\n",
       "    </tr>\n",
       "    <tr>\n",
       "      <th>1998-01-01</th>\n",
       "      <td>Q2</td>\n",
       "      <td>4799</td>\n",
       "    </tr>\n",
       "    <tr>\n",
       "      <th>1998-01-01</th>\n",
       "      <td>Q3</td>\n",
       "      <td>4417</td>\n",
       "    </tr>\n",
       "    <tr>\n",
       "      <th>1998-01-01</th>\n",
       "      <td>Q4</td>\n",
       "      <td>4258</td>\n",
       "    </tr>\n",
       "    <tr>\n",
       "      <th>1999-01-01</th>\n",
       "      <td>Q1</td>\n",
       "      <td>4245</td>\n",
       "    </tr>\n",
       "    <tr>\n",
       "      <th>1999-01-01</th>\n",
       "      <td>Q2</td>\n",
       "      <td>4900</td>\n",
       "    </tr>\n",
       "    <tr>\n",
       "      <th>1999-01-01</th>\n",
       "      <td>Q3</td>\n",
       "      <td>4585</td>\n",
       "    </tr>\n",
       "    <tr>\n",
       "      <th>1999-01-01</th>\n",
       "      <td>Q4</td>\n",
       "      <td>4533</td>\n",
       "    </tr>\n",
       "  </tbody>\n",
       "</table>\n",
       "</div>"
      ],
      "text/plain": [
       "           Quarter  Shipments\n",
       "Year                         \n",
       "1985-01-01      Q1       4009\n",
       "1985-01-01      Q2       4321\n",
       "1985-01-01      Q3       4224\n",
       "1985-01-01      Q4       3944\n",
       "1986-01-01      Q1       4123\n",
       "1986-01-01      Q2       4522\n",
       "1986-01-01      Q3       4657\n",
       "1986-01-01      Q4       4030\n",
       "1987-01-01      Q1       4493\n",
       "1987-01-01      Q2       4806\n",
       "1987-01-01      Q3       4551\n",
       "1987-01-01      Q4       4485\n",
       "1998-01-01      Q1       4595\n",
       "1998-01-01      Q2       4799\n",
       "1998-01-01      Q3       4417\n",
       "1998-01-01      Q4       4258\n",
       "1999-01-01      Q1       4245\n",
       "1999-01-01      Q2       4900\n",
       "1999-01-01      Q3       4585\n",
       "1999-01-01      Q4       4533"
      ]
     },
     "execution_count": 51,
     "metadata": {},
     "output_type": "execute_result"
    }
   ],
   "source": [
    "df=pd.read_csv('ApplianceShipments.csv',parse_dates=['Year'],index_col=['Year'])\n",
    "df"
   ]
  },
  {
   "cell_type": "markdown",
   "metadata": {},
   "source": [
    "## 2. Plot the Time Series data."
   ]
  },
  {
   "cell_type": "code",
   "execution_count": 5,
   "metadata": {},
   "outputs": [
    {
     "data": {
      "image/png": "[encoded data removed]",
      "text/plain": [
       "<Figure size 432x288 with 1 Axes>"
      ]
     },
     "metadata": {
      "needs_background": "light"
     },
     "output_type": "display_data"
    }
   ],
   "source": [
    "df.plot()\n",
    "plt.show()"
   ]
  },
  {
   "cell_type": "markdown",
   "metadata": {},
   "source": [
    "## Find the basic measures of descriptive statistics for this time series across quarters of different years."
   ]
  },
  {
   "cell_type": "code",
   "execution_count": 10,
   "metadata": {},
   "outputs": [
    {
     "data": {
      "text/html": [
       "<div>\n",
       "<style scoped>\n",
       "    .dataframe tbody tr th:only-of-type {\n",
       "        vertical-align: middle;\n",
       "    }\n",
       "\n",
       "    .dataframe tbody tr th {\n",
       "        vertical-align: top;\n",
       "    }\n",
       "\n",
       "    .dataframe thead th {\n",
       "        text-align: right;\n",
       "    }\n",
       "</style>\n",
       "<table border=\"1\" class=\"dataframe\">\n",
       "  <thead>\n",
       "    <tr style=\"text-align: right;\">\n",
       "      <th></th>\n",
       "      <th>count</th>\n",
       "      <th>mean</th>\n",
       "      <th>std</th>\n",
       "      <th>min</th>\n",
       "      <th>25%</th>\n",
       "      <th>50%</th>\n",
       "      <th>75%</th>\n",
       "      <th>max</th>\n",
       "    </tr>\n",
       "    <tr>\n",
       "      <th>Year</th>\n",
       "      <th></th>\n",
       "      <th></th>\n",
       "      <th></th>\n",
       "      <th></th>\n",
       "      <th></th>\n",
       "      <th></th>\n",
       "      <th></th>\n",
       "      <th></th>\n",
       "    </tr>\n",
       "  </thead>\n",
       "  <tbody>\n",
       "    <tr>\n",
       "      <th>1985-01-01</th>\n",
       "      <td>4.0</td>\n",
       "      <td>4124.50</td>\n",
       "      <td>177.419465</td>\n",
       "      <td>3944.0</td>\n",
       "      <td>3992.75</td>\n",
       "      <td>4116.5</td>\n",
       "      <td>4248.25</td>\n",
       "      <td>4321.0</td>\n",
       "    </tr>\n",
       "    <tr>\n",
       "      <th>1986-01-01</th>\n",
       "      <td>4.0</td>\n",
       "      <td>4333.00</td>\n",
       "      <td>303.647822</td>\n",
       "      <td>4030.0</td>\n",
       "      <td>4099.75</td>\n",
       "      <td>4322.5</td>\n",
       "      <td>4555.75</td>\n",
       "      <td>4657.0</td>\n",
       "    </tr>\n",
       "    <tr>\n",
       "      <th>1987-01-01</th>\n",
       "      <td>4.0</td>\n",
       "      <td>4583.75</td>\n",
       "      <td>151.057108</td>\n",
       "      <td>4485.0</td>\n",
       "      <td>4491.00</td>\n",
       "      <td>4522.0</td>\n",
       "      <td>4614.75</td>\n",
       "      <td>4806.0</td>\n",
       "    </tr>\n",
       "    <tr>\n",
       "      <th>1998-01-01</th>\n",
       "      <td>4.0</td>\n",
       "      <td>4517.25</td>\n",
       "      <td>232.872462</td>\n",
       "      <td>4258.0</td>\n",
       "      <td>4377.25</td>\n",
       "      <td>4506.0</td>\n",
       "      <td>4646.00</td>\n",
       "      <td>4799.0</td>\n",
       "    </tr>\n",
       "    <tr>\n",
       "      <th>1999-01-01</th>\n",
       "      <td>4.0</td>\n",
       "      <td>4565.75</td>\n",
       "      <td>268.357194</td>\n",
       "      <td>4245.0</td>\n",
       "      <td>4461.00</td>\n",
       "      <td>4559.0</td>\n",
       "      <td>4663.75</td>\n",
       "      <td>4900.0</td>\n",
       "    </tr>\n",
       "  </tbody>\n",
       "</table>\n",
       "</div>"
      ],
      "text/plain": [
       "            count     mean         std  ...     50%      75%     max\n",
       "Year                                    ...                         \n",
       "1985-01-01    4.0  4124.50  177.419465  ...  4116.5  4248.25  4321.0\n",
       "1986-01-01    4.0  4333.00  303.647822  ...  4322.5  4555.75  4657.0\n",
       "1987-01-01    4.0  4583.75  151.057108  ...  4522.0  4614.75  4806.0\n",
       "1998-01-01    4.0  4517.25  232.872462  ...  4506.0  4646.00  4799.0\n",
       "1999-01-01    4.0  4565.75  268.357194  ...  4559.0  4663.75  4900.0\n",
       "\n",
       "[5 rows x 8 columns]"
      ]
     },
     "execution_count": 10,
     "metadata": {},
     "output_type": "execute_result"
    }
   ],
   "source": [
    "df.groupby('Year')['Shipments'].describe()"
   ]
  },
  {
   "cell_type": "markdown",
   "metadata": {},
   "source": [
    "## 3. Plot the Time series along with the mean and median of the Time series in the graph to get an understanding of the fluctuation of the data from these two measures of central tendency."
   ]
  },
  {
   "cell_type": "code",
   "execution_count": 22,
   "metadata": {},
   "outputs": [
    {
     "data": {
      "image/png": "[encoded data removed]",
      "text/plain": [
       "<Figure size 432x288 with 1 Axes>"
      ]
     },
     "metadata": {
      "needs_background": "light"
     },
     "output_type": "display_data"
    }
   ],
   "source": [
    "df['Shipments'].plot()\n",
    "plt.axhline(df['Shipments'].mean(),color='red')\n",
    "plt.axhline(df['Shipments'].median(),color='g')\n",
    "plt.show()"
   ]
  },
  {
   "cell_type": "code",
   "execution_count": 110,
   "metadata": {},
   "outputs": [
    {
     "data": {
      "text/html": [
       "<div>\n",
       "<style scoped>\n",
       "    .dataframe tbody tr th:only-of-type {\n",
       "        vertical-align: middle;\n",
       "    }\n",
       "\n",
       "    .dataframe tbody tr th {\n",
       "        vertical-align: top;\n",
       "    }\n",
       "\n",
       "    .dataframe thead th {\n",
       "        text-align: right;\n",
       "    }\n",
       "</style>\n",
       "<table border=\"1\" class=\"dataframe\">\n",
       "  <thead>\n",
       "    <tr style=\"text-align: right;\">\n",
       "      <th></th>\n",
       "      <th>Shipments</th>\n",
       "    </tr>\n",
       "    <tr>\n",
       "      <th>Year</th>\n",
       "      <th></th>\n",
       "    </tr>\n",
       "  </thead>\n",
       "  <tbody>\n",
       "    <tr>\n",
       "      <th>1985-12-31</th>\n",
       "      <td>4124.500000</td>\n",
       "    </tr>\n",
       "    <tr>\n",
       "      <th>1986-12-31</th>\n",
       "      <td>4333.000000</td>\n",
       "    </tr>\n",
       "    <tr>\n",
       "      <th>1987-12-31</th>\n",
       "      <td>4583.750000</td>\n",
       "    </tr>\n",
       "    <tr>\n",
       "      <th>1988-12-31</th>\n",
       "      <td>4577.704545</td>\n",
       "    </tr>\n",
       "    <tr>\n",
       "      <th>1989-12-31</th>\n",
       "      <td>4571.659091</td>\n",
       "    </tr>\n",
       "    <tr>\n",
       "      <th>1990-12-31</th>\n",
       "      <td>4565.613636</td>\n",
       "    </tr>\n",
       "    <tr>\n",
       "      <th>1991-12-31</th>\n",
       "      <td>4559.568182</td>\n",
       "    </tr>\n",
       "    <tr>\n",
       "      <th>1992-12-31</th>\n",
       "      <td>4553.522727</td>\n",
       "    </tr>\n",
       "    <tr>\n",
       "      <th>1993-12-31</th>\n",
       "      <td>4547.477273</td>\n",
       "    </tr>\n",
       "    <tr>\n",
       "      <th>1994-12-31</th>\n",
       "      <td>4541.431818</td>\n",
       "    </tr>\n",
       "    <tr>\n",
       "      <th>1995-12-31</th>\n",
       "      <td>4535.386364</td>\n",
       "    </tr>\n",
       "    <tr>\n",
       "      <th>1996-12-31</th>\n",
       "      <td>4529.340909</td>\n",
       "    </tr>\n",
       "    <tr>\n",
       "      <th>1997-12-31</th>\n",
       "      <td>4523.295455</td>\n",
       "    </tr>\n",
       "    <tr>\n",
       "      <th>1998-12-31</th>\n",
       "      <td>4517.250000</td>\n",
       "    </tr>\n",
       "    <tr>\n",
       "      <th>1999-12-31</th>\n",
       "      <td>4565.750000</td>\n",
       "    </tr>\n",
       "  </tbody>\n",
       "</table>\n",
       "</div>"
      ],
      "text/plain": [
       "              Shipments\n",
       "Year                   \n",
       "1985-12-31  4124.500000\n",
       "1986-12-31  4333.000000\n",
       "1987-12-31  4583.750000\n",
       "1988-12-31  4577.704545\n",
       "1989-12-31  4571.659091\n",
       "1990-12-31  4565.613636\n",
       "1991-12-31  4559.568182\n",
       "1992-12-31  4553.522727\n",
       "1993-12-31  4547.477273\n",
       "1994-12-31  4541.431818\n",
       "1995-12-31  4535.386364\n",
       "1996-12-31  4529.340909\n",
       "1997-12-31  4523.295455\n",
       "1998-12-31  4517.250000\n",
       "1999-12-31  4565.750000"
      ]
     },
     "execution_count": 110,
     "metadata": {},
     "output_type": "execute_result"
    }
   ],
   "source": [
    "df1 = df1.resample('Y').interpolate(method='spline',order=2)\n",
    "df1"
   ]
  },
  {
   "cell_type": "code",
   "execution_count": 111,
   "metadata": {},
   "outputs": [
    {
     "data": {
      "image/png": "[encoded data removed]",
      "text/plain": [
       "<Figure size 432x288 with 1 Axes>"
      ]
     },
     "metadata": {
      "needs_background": "light"
     },
     "output_type": "display_data"
    }
   ],
   "source": [
    "df1.plot()\n",
    "plt.show()"
   ]
  },
  {
   "cell_type": "markdown",
   "metadata": {},
   "source": [
    "## 4. Plot a quarterly comparison of the shipments using a barplot."
   ]
  },
  {
   "cell_type": "code",
   "execution_count": 72,
   "metadata": {},
   "outputs": [
    {
     "data": {
      "image/png": "[encoded data removed]",
      "text/plain": [
       "<Figure size 432x288 with 1 Axes>"
      ]
     },
     "metadata": {
      "needs_background": "light"
     },
     "output_type": "display_data"
    }
   ],
   "source": [
    "df.groupby('Quarter')['Shipments'].sum().plot(kind='bar')\n",
    "plt.show()"
   ]
  },
  {
   "cell_type": "markdown",
   "metadata": {
    "ExecuteTime": {
     "end_time": "2020-06-15T12:54:18.213623Z",
     "start_time": "2020-06-15T12:54:18.203651Z"
    }
   },
   "source": [
    "## 5. Plot the year on year quarterly comparison of the shipments."
   ]
  },
  {
   "cell_type": "code",
   "execution_count": 74,
   "metadata": {},
   "outputs": [
    {
     "data": {
      "image/png": "[encoded data removed]",
      "text/plain": [
       "<Figure size 720x504 with 1 Axes>"
      ]
     },
     "metadata": {
      "needs_background": "light"
     },
     "output_type": "display_data"
    }
   ],
   "source": [
    "plt.figure(figsize=(10,7))\n",
    "sns.barplot(x=df.index,y=df['Shipments'],hue=df['Quarter'])\n",
    "plt.show()"
   ]
  },
  {
   "cell_type": "markdown",
   "metadata": {},
   "source": [
    "## 6. Plot the distribution plot for quarterly comparison of the shipments."
   ]
  },
  {
   "cell_type": "code",
   "execution_count": 43,
   "metadata": {},
   "outputs": [
    {
     "data": {
      "image/png": "[encoded data removed]",
      "text/plain": [
       "<Figure size 432x288 with 1 Axes>"
      ]
     },
     "metadata": {
      "needs_background": "light"
     },
     "output_type": "display_data"
    }
   ],
   "source": [
    "df.groupby('Quarter')['Shipments'].sum().plot(kind='kde')\n",
    "plt.show()"
   ]
  },
  {
   "cell_type": "markdown",
   "metadata": {},
   "source": [
    "## 7. Decompose the data and check the trend, seasonality and the irregular/residual/error component."
   ]
  },
  {
   "cell_type": "code",
   "execution_count": 96,
   "metadata": {
    "scrolled": true
   },
   "outputs": [],
   "source": [
    "decomp=seasonal_decompose(df1,model='additive')"
   ]
  },
  {
   "cell_type": "code",
   "execution_count": 83,
   "metadata": {},
   "outputs": [
    {
     "data": {
      "text/plain": [
       "Year\n",
       "1985-03-31            NaN\n",
       "1985-06-30            NaN\n",
       "1985-09-30            NaN\n",
       "1985-12-31            NaN\n",
       "1986-03-31            NaN\n",
       "1986-06-30            NaN\n",
       "1986-09-30    4422.617424\n",
       "1986-12-31    4458.149621\n",
       "1987-03-31    4489.212121\n",
       "1987-06-30    4515.804924\n",
       "1987-09-30    4537.928030\n",
       "1987-12-31    4555.141335\n",
       "1988-03-31    4567.004735\n",
       "1988-06-30    4573.518229\n",
       "1988-09-30    4574.681818\n",
       "1988-12-31    4573.170455\n",
       "1989-03-31    4571.659091\n",
       "1989-06-30    4570.147727\n",
       "1989-09-30    4568.636364\n",
       "1989-12-31    4567.125000\n",
       "1990-03-31    4565.613636\n",
       "1990-06-30    4564.102273\n",
       "1990-09-30    4562.590909\n",
       "1990-12-31    4561.079545\n",
       "1991-03-31    4559.568182\n",
       "1991-06-30    4558.056818\n",
       "1991-09-30    4556.545455\n",
       "1991-12-31    4555.034091\n",
       "1992-03-31    4553.522727\n",
       "1992-06-30    4552.011364\n",
       "1992-09-30    4550.500000\n",
       "1992-12-31    4548.988636\n",
       "1993-03-31    4547.477273\n",
       "1993-06-30    4545.965909\n",
       "1993-09-30    4544.454545\n",
       "1993-12-31    4542.943182\n",
       "1994-03-31    4541.431818\n",
       "1994-06-30    4539.920455\n",
       "1994-09-30    4538.409091\n",
       "1994-12-31    4536.897727\n",
       "1995-03-31    4535.386364\n",
       "1995-06-30    4533.875000\n",
       "1995-09-30    4532.363636\n",
       "1995-12-31    4530.852273\n",
       "1996-03-31    4529.340909\n",
       "1996-06-30    4527.829545\n",
       "1996-09-30    4526.318182\n",
       "1996-12-31    4525.375000\n",
       "1997-03-31    4525.568182\n",
       "1997-06-30    4526.897727\n",
       "1997-09-30    4529.363636\n",
       "1997-12-31            NaN\n",
       "1998-03-31            NaN\n",
       "1998-06-30            NaN\n",
       "1998-09-30            NaN\n",
       "1998-12-31            NaN\n",
       "1999-03-31            NaN\n",
       "Freq: Q-DEC, Name: trend, dtype: float64"
      ]
     },
     "execution_count": 83,
     "metadata": {},
     "output_type": "execute_result"
    }
   ],
   "source": [
    "decomp.trend"
   ]
  },
  {
   "cell_type": "code",
   "execution_count": 84,
   "metadata": {},
   "outputs": [
    {
     "data": {
      "text/plain": [
       "Year\n",
       "1985-03-31    -4.619170\n",
       "1985-06-30    -7.335612\n",
       "1985-09-30    -8.998668\n",
       "1985-12-31    -6.725941\n",
       "1986-03-31    -6.725941\n",
       "1986-06-30    -6.725941\n",
       "1986-09-30     2.213453\n",
       "1986-12-31     9.002279\n",
       "1987-03-31    16.908529\n",
       "1987-06-30     9.882487\n",
       "1987-09-30     3.973870\n",
       "1987-12-31    -0.849343\n",
       "1988-03-31    -4.619170\n",
       "1988-06-30    -7.335612\n",
       "1988-09-30    -8.998668\n",
       "1988-12-31    -6.725941\n",
       "1989-03-31    -6.725941\n",
       "1989-06-30    -6.725941\n",
       "1989-09-30     2.213453\n",
       "1989-12-31     9.002279\n",
       "1990-03-31    16.908529\n",
       "1990-06-30     9.882487\n",
       "1990-09-30     3.973870\n",
       "1990-12-31    -0.849343\n",
       "1991-03-31    -4.619170\n",
       "1991-06-30    -7.335612\n",
       "1991-09-30    -8.998668\n",
       "1991-12-31    -6.725941\n",
       "1992-03-31    -6.725941\n",
       "1992-06-30    -6.725941\n",
       "1992-09-30     2.213453\n",
       "1992-12-31     9.002279\n",
       "1993-03-31    16.908529\n",
       "1993-06-30     9.882487\n",
       "1993-09-30     3.973870\n",
       "1993-12-31    -0.849343\n",
       "1994-03-31    -4.619170\n",
       "1994-06-30    -7.335612\n",
       "1994-09-30    -8.998668\n",
       "1994-12-31    -6.725941\n",
       "1995-03-31    -6.725941\n",
       "1995-06-30    -6.725941\n",
       "1995-09-30     2.213453\n",
       "1995-12-31     9.002279\n",
       "1996-03-31    16.908529\n",
       "1996-06-30     9.882487\n",
       "1996-09-30     3.973870\n",
       "1996-12-31    -0.849343\n",
       "1997-03-31    -4.619170\n",
       "1997-06-30    -7.335612\n",
       "1997-09-30    -8.998668\n",
       "1997-12-31    -6.725941\n",
       "1998-03-31    -6.725941\n",
       "1998-06-30    -6.725941\n",
       "1998-09-30     2.213453\n",
       "1998-12-31     9.002279\n",
       "1999-03-31    16.908529\n",
       "Freq: Q-DEC, Name: seasonal, dtype: float64"
      ]
     },
     "execution_count": 84,
     "metadata": {},
     "output_type": "execute_result"
    }
   ],
   "source": [
    "decomp.seasonal"
   ]
  },
  {
   "cell_type": "code",
   "execution_count": 85,
   "metadata": {},
   "outputs": [
    {
     "data": {
      "text/plain": [
       "Year\n",
       "1985-03-31          NaN\n",
       "1985-06-30          NaN\n",
       "1985-09-30          NaN\n",
       "1985-12-31          NaN\n",
       "1986-03-31          NaN\n",
       "1986-06-30          NaN\n",
       "1986-09-30    33.544123\n",
       "1986-12-31    53.910600\n",
       "1987-03-31    77.629350\n",
       "1987-06-30    56.551225\n",
       "1987-09-30    38.825373\n",
       "1987-12-31    24.923917\n",
       "1988-03-31    15.318981\n",
       "1988-06-30    10.010565\n",
       "1988-09-30     8.998668\n",
       "1988-12-31     6.725941\n",
       "1989-03-31     6.725941\n",
       "1989-06-30     6.725941\n",
       "1989-09-30    -2.213453\n",
       "1989-12-31    -9.002279\n",
       "1990-03-31   -16.908529\n",
       "1990-06-30    -9.882487\n",
       "1990-09-30    -3.973870\n",
       "1990-12-31     0.849343\n",
       "1991-03-31     4.619170\n",
       "1991-06-30     7.335612\n",
       "1991-09-30     8.998668\n",
       "1991-12-31     6.725941\n",
       "1992-03-31     6.725941\n",
       "1992-06-30     6.725941\n",
       "1992-09-30    -2.213453\n",
       "1992-12-31    -9.002279\n",
       "1993-03-31   -16.908529\n",
       "1993-06-30    -9.882487\n",
       "1993-09-30    -3.973870\n",
       "1993-12-31     0.849343\n",
       "1994-03-31     4.619170\n",
       "1994-06-30     7.335612\n",
       "1994-09-30     8.998668\n",
       "1994-12-31     6.725941\n",
       "1995-03-31     6.725941\n",
       "1995-06-30     6.725941\n",
       "1995-09-30    -2.213453\n",
       "1995-12-31    -9.002279\n",
       "1996-03-31   -16.908529\n",
       "1996-06-30    -9.882487\n",
       "1996-09-30    -3.973870\n",
       "1996-12-31     0.281161\n",
       "1997-03-31     2.346443\n",
       "1997-06-30     2.221976\n",
       "1997-09-30    -0.092241\n",
       "1997-12-31          NaN\n",
       "1998-03-31          NaN\n",
       "1998-06-30          NaN\n",
       "1998-09-30          NaN\n",
       "1998-12-31          NaN\n",
       "1999-03-31          NaN\n",
       "Freq: Q-DEC, Name: resid, dtype: float64"
      ]
     },
     "execution_count": 85,
     "metadata": {},
     "output_type": "execute_result"
    }
   ],
   "source": [
    "decomp.resid"
   ]
  },
  {
   "cell_type": "code",
   "execution_count": 97,
   "metadata": {},
   "outputs": [
    {
     "data": {
      "image/png": "[encoded data removed]",
      "text/plain": [
       "<Figure size 432x288 with 4 Axes>"
      ]
     },
     "metadata": {
      "needs_background": "light"
     },
     "output_type": "display_data"
    }
   ],
   "source": [
    "decomp.plot()\n",
    "plt.show()"
   ]
  },
  {
   "cell_type": "code",
   "execution_count": 87,
   "metadata": {},
   "outputs": [],
   "source": [
    "decomp=seasonal_decompose(df1,model='multipicative')"
   ]
  },
  {
   "cell_type": "code",
   "execution_count": 88,
   "metadata": {},
   "outputs": [
    {
     "data": {
      "text/plain": [
       "Year\n",
       "1985-03-31            NaN\n",
       "1985-06-30            NaN\n",
       "1985-09-30    4228.750000\n",
       "1985-12-31    4282.195312\n",
       "1986-03-31    4338.281250\n",
       "1986-06-30    4397.007812\n",
       "1986-09-30    4458.375000\n",
       "1986-12-31    4513.037642\n",
       "1987-03-31    4551.650568\n",
       "1987-06-30    4574.213778\n",
       "1987-09-30    4580.727273\n",
       "1987-12-31    4579.215909\n",
       "1988-03-31    4577.704545\n",
       "1988-06-30    4576.193182\n",
       "1988-09-30    4574.681818\n",
       "1988-12-31    4573.170455\n",
       "1989-03-31    4571.659091\n",
       "1989-06-30    4570.147727\n",
       "1989-09-30    4568.636364\n",
       "1989-12-31    4567.125000\n",
       "1990-03-31    4565.613636\n",
       "1990-06-30    4564.102273\n",
       "1990-09-30    4562.590909\n",
       "1990-12-31    4561.079545\n",
       "1991-03-31    4559.568182\n",
       "1991-06-30    4558.056818\n",
       "1991-09-30    4556.545455\n",
       "1991-12-31    4555.034091\n",
       "1992-03-31    4553.522727\n",
       "1992-06-30    4552.011364\n",
       "1992-09-30    4550.500000\n",
       "1992-12-31    4548.988636\n",
       "1993-03-31    4547.477273\n",
       "1993-06-30    4545.965909\n",
       "1993-09-30    4544.454545\n",
       "1993-12-31    4542.943182\n",
       "1994-03-31    4541.431818\n",
       "1994-06-30    4539.920455\n",
       "1994-09-30    4538.409091\n",
       "1994-12-31    4536.897727\n",
       "1995-03-31    4535.386364\n",
       "1995-06-30    4533.875000\n",
       "1995-09-30    4532.363636\n",
       "1995-12-31    4530.852273\n",
       "1996-03-31    4529.340909\n",
       "1996-06-30    4527.829545\n",
       "1996-09-30    4526.318182\n",
       "1996-12-31    4524.806818\n",
       "1997-03-31    4523.295455\n",
       "1997-06-30    4521.784091\n",
       "1997-09-30    4520.272727\n",
       "1997-12-31    4520.465909\n",
       "1998-03-31    4524.068182\n",
       "1998-06-30    4531.079545\n",
       "1998-09-30    4541.500000\n",
       "1998-12-31            NaN\n",
       "1999-03-31            NaN\n",
       "Freq: Q-DEC, Name: trend, dtype: float64"
      ]
     },
     "execution_count": 88,
     "metadata": {},
     "output_type": "execute_result"
    }
   ],
   "source": [
    "decomp.trend"
   ]
  },
  {
   "cell_type": "code",
   "execution_count": 89,
   "metadata": {},
   "outputs": [
    {
     "data": {
      "text/plain": [
       "Year\n",
       "1985-03-31    1.000208\n",
       "1985-06-30    0.999958\n",
       "1985-09-30    0.999875\n",
       "1985-12-31    0.999959\n",
       "1986-03-31    1.000208\n",
       "1986-06-30    0.999958\n",
       "1986-09-30    0.999875\n",
       "1986-12-31    0.999959\n",
       "1987-03-31    1.000208\n",
       "1987-06-30    0.999958\n",
       "1987-09-30    0.999875\n",
       "1987-12-31    0.999959\n",
       "1988-03-31    1.000208\n",
       "1988-06-30    0.999958\n",
       "1988-09-30    0.999875\n",
       "1988-12-31    0.999959\n",
       "1989-03-31    1.000208\n",
       "1989-06-30    0.999958\n",
       "1989-09-30    0.999875\n",
       "1989-12-31    0.999959\n",
       "1990-03-31    1.000208\n",
       "1990-06-30    0.999958\n",
       "1990-09-30    0.999875\n",
       "1990-12-31    0.999959\n",
       "1991-03-31    1.000208\n",
       "1991-06-30    0.999958\n",
       "1991-09-30    0.999875\n",
       "1991-12-31    0.999959\n",
       "1992-03-31    1.000208\n",
       "1992-06-30    0.999958\n",
       "1992-09-30    0.999875\n",
       "1992-12-31    0.999959\n",
       "1993-03-31    1.000208\n",
       "1993-06-30    0.999958\n",
       "1993-09-30    0.999875\n",
       "1993-12-31    0.999959\n",
       "1994-03-31    1.000208\n",
       "1994-06-30    0.999958\n",
       "1994-09-30    0.999875\n",
       "1994-12-31    0.999959\n",
       "1995-03-31    1.000208\n",
       "1995-06-30    0.999958\n",
       "1995-09-30    0.999875\n",
       "1995-12-31    0.999959\n",
       "1996-03-31    1.000208\n",
       "1996-06-30    0.999958\n",
       "1996-09-30    0.999875\n",
       "1996-12-31    0.999959\n",
       "1997-03-31    1.000208\n",
       "1997-06-30    0.999958\n",
       "1997-09-30    0.999875\n",
       "1997-12-31    0.999959\n",
       "1998-03-31    1.000208\n",
       "1998-06-30    0.999958\n",
       "1998-09-30    0.999875\n",
       "1998-12-31    0.999959\n",
       "1999-03-31    1.000208\n",
       "Freq: Q-DEC, Name: seasonal, dtype: float64"
      ]
     },
     "execution_count": 89,
     "metadata": {},
     "output_type": "execute_result"
    }
   ],
   "source": [
    "decomp.seasonal"
   ]
  },
  {
   "cell_type": "code",
   "execution_count": 90,
   "metadata": {},
   "outputs": [
    {
     "data": {
      "text/plain": [
       "Year\n",
       "1985-03-31         NaN\n",
       "1985-06-30         NaN\n",
       "1985-09-30    1.000125\n",
       "1985-12-31    0.999733\n",
       "1986-03-31    0.998575\n",
       "1986-06-30    0.999742\n",
       "1986-09-30    1.000125\n",
       "1986-12-31    1.001819\n",
       "1987-03-31    1.006843\n",
       "1987-06-30    1.001796\n",
       "1987-09-30    1.000125\n",
       "1987-12-31    1.000041\n",
       "1988-03-31    0.999792\n",
       "1988-06-30    1.000042\n",
       "1988-09-30    1.000125\n",
       "1988-12-31    1.000041\n",
       "1989-03-31    0.999792\n",
       "1989-06-30    1.000042\n",
       "1989-09-30    1.000125\n",
       "1989-12-31    1.000041\n",
       "1990-03-31    0.999792\n",
       "1990-06-30    1.000042\n",
       "1990-09-30    1.000125\n",
       "1990-12-31    1.000041\n",
       "1991-03-31    0.999792\n",
       "1991-06-30    1.000042\n",
       "1991-09-30    1.000125\n",
       "1991-12-31    1.000041\n",
       "1992-03-31    0.999792\n",
       "1992-06-30    1.000042\n",
       "1992-09-30    1.000125\n",
       "1992-12-31    1.000041\n",
       "1993-03-31    0.999792\n",
       "1993-06-30    1.000042\n",
       "1993-09-30    1.000125\n",
       "1993-12-31    1.000041\n",
       "1994-03-31    0.999792\n",
       "1994-06-30    1.000042\n",
       "1994-09-30    1.000125\n",
       "1994-12-31    1.000041\n",
       "1995-03-31    0.999792\n",
       "1995-06-30    1.000042\n",
       "1995-09-30    1.000125\n",
       "1995-12-31    1.000041\n",
       "1996-03-31    0.999792\n",
       "1996-06-30    1.000042\n",
       "1996-09-30    1.000125\n",
       "1996-12-31    1.000041\n",
       "1997-03-31    0.999792\n",
       "1997-06-30    1.000042\n",
       "1997-09-30    1.000125\n",
       "1997-12-31    0.999664\n",
       "1998-03-31    0.998285\n",
       "1998-06-30    0.999666\n",
       "1998-09-30    1.000125\n",
       "1998-12-31         NaN\n",
       "1999-03-31         NaN\n",
       "Freq: Q-DEC, Name: resid, dtype: float64"
      ]
     },
     "execution_count": 90,
     "metadata": {},
     "output_type": "execute_result"
    }
   ],
   "source": [
    "decomp.resid"
   ]
  },
  {
   "cell_type": "code",
   "execution_count": 91,
   "metadata": {},
   "outputs": [
    {
     "data": {
      "image/png": "[encoded data removed]",
      "text/plain": [
       "<Figure size 432x288 with 4 Axes>"
      ]
     },
     "metadata": {
      "needs_background": "light"
     },
     "output_type": "display_data"
    }
   ],
   "source": [
    "decomp.plot()\n",
    "plt.show()"
   ]
  },
  {
   "cell_type": "markdown",
   "metadata": {},
   "source": [
    "Go ahead and play around with the data to understand the nuances. Try to perform different types of visualizations in order for better understanding of the data. \n",
    "\n",
    "Happy Learning!"
   ]
  },
  {
   "cell_type": "markdown",
   "metadata": {},
   "source": [
    "# END"
   ]
  }
 ],
 "metadata": {
  "kernelspec": {
   "display_name": "Python 3 (ipykernel)",
   "language": "python",
   "name": "python3"
  },
  "language_info": {
   "codemirror_mode": {
    "name": "ipython",
    "version": 3
   },
   "file_extension": ".py",
   "mimetype": "text/x-python",
   "name": "python",
   "nbconvert_exporter": "python",
   "pygments_lexer": "ipython3",
   "version": "3.9.7"
  },
  "toc": {
   "base_numbering": 1,
   "nav_menu": {},
   "number_sections": true,
   "sideBar": true,
   "skip_h1_title": false,
   "title_cell": "Table of Contents",
   "title_sidebar": "Contents",
   "toc_cell": false,
   "toc_position": {},
   "toc_section_display": true,
   "toc_window_display": false
  },
  "varInspector": {
   "cols": {
    "lenName": 16,
    "lenType": 16,
    "lenVar": 40
   },
   "kernels_config": {
    "python": {
     "delete_cmd_postfix": "",
     "delete_cmd_prefix": "del ",
     "library": "var_list.py",
     "varRefreshCmd": "print(var_dic_list())"
    },
    "r": {
     "delete_cmd_postfix": ") ",
     "delete_cmd_prefix": "rm(",
     "library": "var_list.r",
     "varRefreshCmd": "cat(var_dic_list()) "
    }
   },
   "types_to_exclude": [
    "module",
    "function",
    "builtin_function_or_method",
    "instance",
    "_Feature"
   ],
   "window_display": false
  }
 },
 "nbformat": 4,
 "nbformat_minor": 4
}
