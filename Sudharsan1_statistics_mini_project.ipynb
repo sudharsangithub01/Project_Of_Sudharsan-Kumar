{
 "cells": [
  {
   "cell_type": "code",
   "execution_count": 1,
   "metadata": {},
   "outputs": [],
   "source": [
    "STATISTICS_MINI_PROJECT"
   ]
  },
  {
   "cell_type": "code",
   "execution_count": 73,
   "metadata": {},
   "outputs": [],
   "source": [
    "import numpy as np\n",
    "import pandas as pd\n",
    "import matplotlib.pyplot as plt\n",
    "import seaborn as sns\n",
    "import scipy.stats as stats\n",
    "plt.rcParams['figure.figsize']=(12,6)\n",
    "plt.style.use('fivethirtyeight')"
   ]
  },
  {
   "cell_type": "code",
   "execution_count": 74,
   "metadata": {},
   "outputs": [
    {
     "data": {
      "text/html": [
       "<div>\n",
       "<style scoped>\n",
       "    .dataframe tbody tr th:only-of-type {\n",
       "        vertical-align: middle;\n",
       "    }\n",
       "\n",
       "    .dataframe tbody tr th {\n",
       "        vertical-align: top;\n",
       "    }\n",
       "\n",
       "    .dataframe thead th {\n",
       "        text-align: right;\n",
       "    }\n",
       "</style>\n",
       "<table border=\"1\" class=\"dataframe\">\n",
       "  <thead>\n",
       "    <tr style=\"text-align: right;\">\n",
       "      <th></th>\n",
       "      <th>Name</th>\n",
       "      <th>Age</th>\n",
       "      <th>Nationality</th>\n",
       "      <th>Overall_rating</th>\n",
       "      <th>Potential</th>\n",
       "      <th>Club</th>\n",
       "      <th>Preferred Foot</th>\n",
       "      <th>International Reputation</th>\n",
       "      <th>Weak Foot</th>\n",
       "      <th>Skill Moves</th>\n",
       "      <th>Work Rate</th>\n",
       "      <th>Position</th>\n",
       "      <th>Jersey Number</th>\n",
       "      <th>Height</th>\n",
       "      <th>Weight</th>\n",
       "    </tr>\n",
       "  </thead>\n",
       "  <tbody>\n",
       "    <tr>\n",
       "      <th>0</th>\n",
       "      <td>L. Messi</td>\n",
       "      <td>31</td>\n",
       "      <td>Argentina</td>\n",
       "      <td>94</td>\n",
       "      <td>94</td>\n",
       "      <td>FC Barcelona</td>\n",
       "      <td>Left</td>\n",
       "      <td>5</td>\n",
       "      <td>4</td>\n",
       "      <td>4</td>\n",
       "      <td>Medium/ Medium</td>\n",
       "      <td>RF</td>\n",
       "      <td>10</td>\n",
       "      <td>5.583333</td>\n",
       "      <td>159</td>\n",
       "    </tr>\n",
       "    <tr>\n",
       "      <th>1</th>\n",
       "      <td>Cristiano Ronaldo</td>\n",
       "      <td>33</td>\n",
       "      <td>Portugal</td>\n",
       "      <td>94</td>\n",
       "      <td>94</td>\n",
       "      <td>Juventus</td>\n",
       "      <td>Right</td>\n",
       "      <td>5</td>\n",
       "      <td>4</td>\n",
       "      <td>5</td>\n",
       "      <td>High/ Low</td>\n",
       "      <td>ST</td>\n",
       "      <td>7</td>\n",
       "      <td>6.166667</td>\n",
       "      <td>183</td>\n",
       "    </tr>\n",
       "    <tr>\n",
       "      <th>2</th>\n",
       "      <td>Neymar Jr</td>\n",
       "      <td>26</td>\n",
       "      <td>Brazil</td>\n",
       "      <td>92</td>\n",
       "      <td>93</td>\n",
       "      <td>Paris Saint-Germain</td>\n",
       "      <td>Right</td>\n",
       "      <td>5</td>\n",
       "      <td>5</td>\n",
       "      <td>5</td>\n",
       "      <td>High/ Medium</td>\n",
       "      <td>LW</td>\n",
       "      <td>10</td>\n",
       "      <td>5.750000</td>\n",
       "      <td>150</td>\n",
       "    </tr>\n",
       "    <tr>\n",
       "      <th>3</th>\n",
       "      <td>De Gea</td>\n",
       "      <td>27</td>\n",
       "      <td>Spain</td>\n",
       "      <td>91</td>\n",
       "      <td>93</td>\n",
       "      <td>Manchester United</td>\n",
       "      <td>Right</td>\n",
       "      <td>4</td>\n",
       "      <td>3</td>\n",
       "      <td>1</td>\n",
       "      <td>Medium/ Medium</td>\n",
       "      <td>GK</td>\n",
       "      <td>1</td>\n",
       "      <td>6.333333</td>\n",
       "      <td>168</td>\n",
       "    </tr>\n",
       "    <tr>\n",
       "      <th>4</th>\n",
       "      <td>K. De Bruyne</td>\n",
       "      <td>27</td>\n",
       "      <td>Belgium</td>\n",
       "      <td>91</td>\n",
       "      <td>92</td>\n",
       "      <td>Manchester City</td>\n",
       "      <td>Right</td>\n",
       "      <td>4</td>\n",
       "      <td>5</td>\n",
       "      <td>4</td>\n",
       "      <td>High/ High</td>\n",
       "      <td>RCM</td>\n",
       "      <td>7</td>\n",
       "      <td>5.083333</td>\n",
       "      <td>154</td>\n",
       "    </tr>\n",
       "  </tbody>\n",
       "</table>\n",
       "</div>"
      ],
      "text/plain": [
       "                Name  Age Nationality  Overall_rating  Potential  \\\n",
       "0           L. Messi   31   Argentina              94         94   \n",
       "1  Cristiano Ronaldo   33    Portugal              94         94   \n",
       "2          Neymar Jr   26      Brazil              92         93   \n",
       "3             De Gea   27       Spain              91         93   \n",
       "4       K. De Bruyne   27     Belgium              91         92   \n",
       "\n",
       "                  Club Preferred Foot  International Reputation  Weak Foot  \\\n",
       "0         FC Barcelona           Left                         5          4   \n",
       "1             Juventus          Right                         5          4   \n",
       "2  Paris Saint-Germain          Right                         5          5   \n",
       "3    Manchester United          Right                         4          3   \n",
       "4      Manchester City          Right                         4          5   \n",
       "\n",
       "   Skill Moves       Work Rate Position  Jersey Number    Height  Weight  \n",
       "0            4  Medium/ Medium       RF             10  5.583333     159  \n",
       "1            5       High/ Low       ST              7  6.166667     183  \n",
       "2            5    High/ Medium       LW             10  5.750000     150  \n",
       "3            1  Medium/ Medium       GK              1  6.333333     168  \n",
       "4            4      High/ High      RCM              7  5.083333     154  "
      ]
     },
     "execution_count": 74,
     "metadata": {},
     "output_type": "execute_result"
    }
   ],
   "source": [
    "df=pd.read_csv('fifa_stats.csv')\n",
    "df.head()"
   ]
  },
  {
   "cell_type": "code",
   "execution_count": 75,
   "metadata": {},
   "outputs": [
    {
     "name": "stdout",
     "output_type": "stream",
     "text": [
      "<class 'pandas.core.frame.DataFrame'>\n",
      "RangeIndex: 2000 entries, 0 to 1999\n",
      "Data columns (total 15 columns):\n",
      " #   Column                    Non-Null Count  Dtype  \n",
      "---  ------                    --------------  -----  \n",
      " 0   Name                      2000 non-null   object \n",
      " 1   Age                       2000 non-null   int64  \n",
      " 2   Nationality               2000 non-null   object \n",
      " 3   Overall_rating            2000 non-null   int64  \n",
      " 4   Potential                 2000 non-null   int64  \n",
      " 5   Club                      1981 non-null   object \n",
      " 6   Preferred Foot            2000 non-null   object \n",
      " 7   International Reputation  2000 non-null   int64  \n",
      " 8   Weak Foot                 2000 non-null   int64  \n",
      " 9   Skill Moves               2000 non-null   int64  \n",
      " 10  Work Rate                 2000 non-null   object \n",
      " 11  Position                  2000 non-null   object \n",
      " 12  Jersey Number             2000 non-null   int64  \n",
      " 13  Height                    2000 non-null   float64\n",
      " 14  Weight                    2000 non-null   int64  \n",
      "dtypes: float64(1), int64(8), object(6)\n",
      "memory usage: 234.5+ KB\n"
     ]
    }
   ],
   "source": [
    "df.info()"
   ]
  },
  {
   "cell_type": "code",
   "execution_count": 76,
   "metadata": {},
   "outputs": [
    {
     "data": {
      "text/plain": [
       "Name                        0.00\n",
       "Age                         0.00\n",
       "Nationality                 0.00\n",
       "Overall_rating              0.00\n",
       "Potential                   0.00\n",
       "Club                        0.95\n",
       "Preferred Foot              0.00\n",
       "International Reputation    0.00\n",
       "Weak Foot                   0.00\n",
       "Skill Moves                 0.00\n",
       "Work Rate                   0.00\n",
       "Position                    0.00\n",
       "Jersey Number               0.00\n",
       "Height                      0.00\n",
       "Weight                      0.00\n",
       "dtype: float64"
      ]
     },
     "execution_count": 76,
     "metadata": {},
     "output_type": "execute_result"
    }
   ],
   "source": [
    "df.isnull().sum()/df.shape[0]*100"
   ]
  },
  {
   "cell_type": "code",
   "execution_count": 77,
   "metadata": {},
   "outputs": [],
   "source": [
    "df=df.dropna()"
   ]
  },
  {
   "cell_type": "code",
   "execution_count": 78,
   "metadata": {},
   "outputs": [],
   "source": [
    "df['Skill Moves']=df['Skill Moves'].astype('object')"
   ]
  },
  {
   "cell_type": "markdown",
   "metadata": {},
   "source": [
    "a)\tAssuming age as population, perform the central limit theorem with sample size of 200. Find the standard error and the mean of sampling distribution. Compare the results with population mean and standard deviation. Explain in non-technical terms why the estimated standard error of a sample mean tends to decrease with an increase in sample size"
   ]
  },
  {
   "cell_type": "code",
   "execution_count": 79,
   "metadata": {},
   "outputs": [
    {
     "name": "stdout",
     "output_type": "stream",
     "text": [
      "population mean 27.215547703180214\n",
      "population standard deviation 3.8525185996930396\n"
     ]
    }
   ],
   "source": [
    "df_age=df['Age']\n",
    "mu=df_age.mean()\n",
    "sigma=df_age.std()\n",
    "print('population mean',mu)\n",
    "print('population standard deviation',sigma)"
   ]
  },
  {
   "cell_type": "code",
   "execution_count": 80,
   "metadata": {},
   "outputs": [],
   "source": [
    "sample=np.random.choice(df_age,size=200,replace=False)"
   ]
  },
  {
   "cell_type": "code",
   "execution_count": 81,
   "metadata": {},
   "outputs": [
    {
     "name": "stdout",
     "output_type": "stream",
     "text": [
      "mean of sampling distribution 27.115\n"
     ]
    }
   ],
   "source": [
    "#mean of sample\n",
    "x_bar=np.mean(sample)\n",
    "print('mean of sampling distribution',x_bar)"
   ]
  },
  {
   "cell_type": "code",
   "execution_count": 82,
   "metadata": {},
   "outputs": [
    {
     "name": "stdout",
     "output_type": "stream",
     "text": [
      "standard error 0.2553602846959566\n"
     ]
    }
   ],
   "source": [
    "#standard error\n",
    "se=np.std(sample)/np.sqrt(len(sample))\n",
    "print('standard error',se)"
   ]
  },
  {
   "cell_type": "code",
   "execution_count": 83,
   "metadata": {},
   "outputs": [],
   "source": [
    "#the standard error shows how much the sample mean deviates from population mean, the "
   ]
  },
  {
   "cell_type": "code",
   "execution_count": 84,
   "metadata": {},
   "outputs": [],
   "source": [
    "#standard error= population standard deviation/sqrt sample size\n",
    "#as standard error is inversely proportional to sqrt of sample size, when we increase the sample size \n",
    "#we are getting close to population size and sample mean will try to become same value as population mean as a result standard error is decreasing \n"
   ]
  },
  {
   "cell_type": "markdown",
   "metadata": {},
   "source": [
    "b)\tIs there any evidence that the players overall rating is greater than 80?"
   ]
  },
  {
   "cell_type": "code",
   "execution_count": 85,
   "metadata": {},
   "outputs": [],
   "source": [
    "#Hypothesis:\n",
    "#Ho: mu<=80, players overall rating less than or equal to 80\n",
    "#Ha: mu>80,  players overall rating greater than 80"
   ]
  },
  {
   "cell_type": "code",
   "execution_count": 86,
   "metadata": {},
   "outputs": [
    {
     "data": {
      "text/plain": [
       "ShapiroResult(statistic=0.8532959818840027, pvalue=1.721150444000814e-39)"
      ]
     },
     "execution_count": 86,
     "metadata": {},
     "output_type": "execute_result"
    }
   ],
   "source": [
    "#normality of data\n",
    "#hypothesis:\n",
    "#Ho: skew=0 data normal\n",
    "#Ha: skew !=0 data is not normal\n",
    "\n",
    "#test statistics\n",
    "stats.shapiro(df.Overall_rating)\n"
   ]
  },
  {
   "cell_type": "code",
   "execution_count": 87,
   "metadata": {},
   "outputs": [],
   "source": [
    "#assume data is normal\n",
    "#Population std not known\n",
    "#one sample t test(right tail)"
   ]
  },
  {
   "cell_type": "code",
   "execution_count": 88,
   "metadata": {},
   "outputs": [
    {
     "name": "stdout",
     "output_type": "stream",
     "text": [
      "test statistics -24.161970492711205\n",
      "two tail probability 3.0006946846662113e-113\n"
     ]
    }
   ],
   "source": [
    "#test statistics\n",
    "test_stat,two_side_pval=stats.ttest_1samp(df.Overall_rating,popmean=80)\n",
    "print('test statistics',test_stat)\n",
    "print('two tail probability',two_side_pval)"
   ]
  },
  {
   "cell_type": "code",
   "execution_count": 89,
   "metadata": {},
   "outputs": [
    {
     "name": "stdout",
     "output_type": "stream",
     "text": [
      "probability 1.0\n"
     ]
    }
   ],
   "source": [
    "pval=1-(two_side_pval/2)\n",
    "print('probability',pval)"
   ]
  },
  {
   "cell_type": "code",
   "execution_count": 90,
   "metadata": {},
   "outputs": [
    {
     "name": "stdout",
     "output_type": "stream",
     "text": [
      "fail to reject null hypothesis\n",
      "there is no evidence that players overall ratings greater than 80\n"
     ]
    }
   ],
   "source": [
    "#inference\n",
    "if pval<0.05:\n",
    "    print('null hypotheis rejected')\n",
    "    print('there is evience that players overall rating greater than 80')\n",
    "else:\n",
    "    print('fail to reject null hypothesis')\n",
    "    print('there is no evidence that players overall ratings greater than 80')"
   ]
  },
  {
   "cell_type": "markdown",
   "metadata": {},
   "source": [
    "c)\tPerform the statistical test to identify whether preferred foot has any impact on potential. Also, perform the graphical analysis."
   ]
  },
  {
   "cell_type": "code",
   "execution_count": 91,
   "metadata": {},
   "outputs": [
    {
     "data": {
      "text/plain": [
       "Right    1519\n",
       "Left      462\n",
       "Name: Preferred Foot, dtype: int64"
      ]
     },
     "execution_count": 91,
     "metadata": {},
     "output_type": "execute_result"
    }
   ],
   "source": [
    "df['Preferred Foot'].value_counts()"
   ]
  },
  {
   "cell_type": "code",
   "execution_count": 92,
   "metadata": {},
   "outputs": [],
   "source": [
    "df_right=df[df['Preferred Foot']=='Right']['Potential']\n",
    "df_left=df[df['Preferred Foot']=='Left']['Potential']"
   ]
  },
  {
   "cell_type": "markdown",
   "metadata": {},
   "source": [
    "Statistical analysis"
   ]
  },
  {
   "cell_type": "code",
   "execution_count": 93,
   "metadata": {},
   "outputs": [],
   "source": [
    "#Hypothesis\n",
    "#Ho: mu1-mu2<=0, both right and left foot player have less than or equal potential\n",
    "#Ha: mu1-mu2>0 , potential of right foot player greater than potential of left foot player"
   ]
  },
  {
   "cell_type": "code",
   "execution_count": 94,
   "metadata": {},
   "outputs": [
    {
     "name": "stdout",
     "output_type": "stream",
     "text": [
      "ShapiroResult(statistic=0.9373535513877869, pvalue=8.425229710834448e-25)\n",
      "ShapiroResult(statistic=0.9437844157218933, pvalue=3.187897645515192e-12)\n"
     ]
    }
   ],
   "source": [
    "#checking data\n",
    "#normality of data-shapiro test\n",
    "#hypothesis\n",
    "#Ho: skew=0\n",
    "#Ha: skew!=0\n",
    "\n",
    "#test statistics\n",
    "print(stats.shapiro(df_right))\n",
    "print(stats.shapiro(df_left))\n",
    "#p value<0.05(significance value) Ho is rejected data is not normal"
   ]
  },
  {
   "cell_type": "code",
   "execution_count": 95,
   "metadata": {},
   "outputs": [],
   "source": [
    "#Hypothesis test\n",
    "#asssuming data is normal\n",
    "#Population standard deviation not known\n",
    "#two sample independent t test(right tail)"
   ]
  },
  {
   "cell_type": "code",
   "execution_count": 96,
   "metadata": {},
   "outputs": [
    {
     "name": "stdout",
     "output_type": "stream",
     "text": [
      "test statistics value -1.6316202307100005\n",
      "two tail probability value 0.1029186188520214\n"
     ]
    }
   ],
   "source": [
    "#test statistics\n",
    "test_stat,two_side_pval=stats.ttest_ind(df_right,df_left)\n",
    "print('test statistics value',test_stat)\n",
    "print('two tail probability value',two_side_pval)"
   ]
  },
  {
   "cell_type": "code",
   "execution_count": 97,
   "metadata": {},
   "outputs": [
    {
     "name": "stdout",
     "output_type": "stream",
     "text": [
      "probability value 0.5\n"
     ]
    }
   ],
   "source": [
    "#probability value\n",
    "pval=1-(pval/2)\n",
    "print('probability value',pval)"
   ]
  },
  {
   "cell_type": "code",
   "execution_count": 98,
   "metadata": {},
   "outputs": [
    {
     "name": "stdout",
     "output_type": "stream",
     "text": [
      "reject nullhypothesis\n",
      " both right and left foot player have less than or equal potential\n"
     ]
    }
   ],
   "source": [
    "#inference\n",
    "sig_val=0.05\n",
    "if pval<sig_val:\n",
    "    print('null hypothesis rejected')\n",
    "    print('potential of right foot player greater than potential of left foot player')\n",
    "else:\n",
    "    print('reject nullhypothesis')\n",
    "    print(' both right and left foot player have less than or equal potential')"
   ]
  },
  {
   "cell_type": "code",
   "execution_count": 99,
   "metadata": {},
   "outputs": [],
   "source": [
    "#preferred foot has no impact on player potential"
   ]
  },
  {
   "cell_type": "markdown",
   "metadata": {},
   "source": [
    "graphical analysis"
   ]
  },
  {
   "cell_type": "code",
   "execution_count": 100,
   "metadata": {},
   "outputs": [
    {
     "data": {
      "image/png": "[encoded data removed]",
      "text/plain": [
       "<Figure size 864x432 with 1 Axes>"
      ]
     },
     "metadata": {},
     "output_type": "display_data"
    }
   ],
   "source": [
    "sns.boxplot(x=df['Preferred Foot'],y=df['Potential'])\n",
    "plt.plot()\n",
    "plt.show()"
   ]
  },
  {
   "cell_type": "code",
   "execution_count": 101,
   "metadata": {},
   "outputs": [],
   "source": [
    "#both left and right preferred foot has more or less same median, and their IQR range is also not that much difference\n",
    "#so, preferred foot has no impact on potential"
   ]
  },
  {
   "cell_type": "markdown",
   "metadata": {},
   "source": [
    "d)\tPerform the statistical test to identify the relation between the overall rating and potential. [Assume both are continuous data points]."
   ]
  },
  {
   "cell_type": "code",
   "execution_count": 102,
   "metadata": {},
   "outputs": [],
   "source": [
    "#Hypothesis formation\n",
    "#Ho: corr=0, no relation between overall rating and potential\n",
    "#Ha: corr!=0,   there is relation between overall rating and potential"
   ]
  },
  {
   "cell_type": "code",
   "execution_count": 103,
   "metadata": {},
   "outputs": [],
   "source": [
    "#choice of test\n",
    "#assume data is normal\n",
    "#population standard deviation not known\n",
    "#Pearson correlation test"
   ]
  },
  {
   "cell_type": "code",
   "execution_count": 104,
   "metadata": {},
   "outputs": [
    {
     "name": "stdout",
     "output_type": "stream",
     "text": [
      "test statistics value 0.7320858358909884\n",
      "probability value to make Ho true for given sample parameter 0.0\n"
     ]
    }
   ],
   "source": [
    "#test statistics\n",
    "test_stat,pval=stats.pearsonr(df.Overall_rating,df.Potential)\n",
    "print('test statistics value',test_stat)\n",
    "print('probability value to make Ho true for given sample parameter',pval)"
   ]
  },
  {
   "cell_type": "code",
   "execution_count": 105,
   "metadata": {},
   "outputs": [
    {
     "name": "stdout",
     "output_type": "stream",
     "text": [
      "null hypothesis rejected\n",
      "there is relation between overall rating and potential\n"
     ]
    }
   ],
   "source": [
    "#inference\n",
    "sig_val=0.05\n",
    "if pval<sig_val:\n",
    "    print('null hypothesis rejected')\n",
    "    print('there is relation between overall rating and potential')\n",
    "else:\n",
    "    print('fail to reject null hypothesis')\n",
    "    print('no relation between overall rating and potential')"
   ]
  },
  {
   "cell_type": "markdown",
   "metadata": {},
   "source": [
    "e)\tDoes skill move have any effect in overall rating. Perform the graphical analysis and the statistical analysis."
   ]
  },
  {
   "cell_type": "code",
   "execution_count": 106,
   "metadata": {},
   "outputs": [],
   "source": [
    "df_1=df[df['Skill Moves']==1]['Overall_rating']\n",
    "df_2=df[df['Skill Moves']==2]['Overall_rating']\n",
    "df_3=df[df['Skill Moves']==3]['Overall_rating']\n",
    "df_4=df[df['Skill Moves']==4]['Overall_rating']\n",
    "df_5=df[df['Skill Moves']==5]['Overall_rating']"
   ]
  },
  {
   "cell_type": "code",
   "execution_count": 107,
   "metadata": {},
   "outputs": [],
   "source": [
    "#Hypothesis\n",
    "#Ho: all overall rating mean are equal,             skill move have no effect in overall rating\n",
    "#Ha: atleast one overall rating mean is different,  skill move have effect in overall rating"
   ]
  },
  {
   "cell_type": "code",
   "execution_count": 108,
   "metadata": {},
   "outputs": [
    {
     "name": "stdout",
     "output_type": "stream",
     "text": [
      "ShapiroResult(statistic=0.8532959818840027, pvalue=1.721150444000814e-39)\n"
     ]
    }
   ],
   "source": [
    "#data normality-shapiro\n",
    "#hypothesis\n",
    "#Ho: skew=0 data normal\n",
    "#Ha: skew !=0, data is not normal\n",
    "\n",
    "#test statistics\n",
    "print(stats.shapiro(df.Overall_rating))\n",
    "#pvalue <0.05significance value , data is not normal"
   ]
  },
  {
   "cell_type": "code",
   "execution_count": 109,
   "metadata": {},
   "outputs": [
    {
     "name": "stdout",
     "output_type": "stream",
     "text": [
      "LeveneResult(statistic=9.804649031105178, pvalue=7.467011515280531e-08)\n"
     ]
    }
   ],
   "source": [
    "#equality of variance--levene test\n",
    "# Ho : All variance are equal\n",
    "# Ha : At least one variance is not equal\n",
    "\n",
    "#test statistics\n",
    "print(stats.levene(df_1,df_2,df_3,df_4,df_5))"
   ]
  },
  {
   "cell_type": "code",
   "execution_count": 110,
   "metadata": {},
   "outputs": [
    {
     "name": "stdout",
     "output_type": "stream",
     "text": [
      "test statistics 30.65461769112108\n",
      "probability value 8.630701393554627e-25\n"
     ]
    }
   ],
   "source": [
    "test_stat,pval=stats.f_oneway(df_1,df_2,df_3,df_4,df_5)\n",
    "print('test statistics',test_stat)\n",
    "print('probability value',pval)"
   ]
  },
  {
   "cell_type": "code",
   "execution_count": 111,
   "metadata": {},
   "outputs": [
    {
     "name": "stdout",
     "output_type": "stream",
     "text": [
      "null hypothesis rejected\n",
      "there is relation between skill moves and overall rating\n"
     ]
    }
   ],
   "source": [
    "#inference\n",
    "if pval<0.05:\n",
    "    print('null hypothesis rejected')\n",
    "    print('there is relation between skill moves and overall rating')\n",
    "else:\n",
    "    print('fail to reject null hypothesis')\n",
    "    print('there is no relation between skill moves and overall rating')"
   ]
  },
  {
   "cell_type": "code",
   "execution_count": 112,
   "metadata": {},
   "outputs": [
    {
     "data": {
      "image/png": "[encoded data removed]",
      "text/plain": [
       "<Figure size 864x432 with 1 Axes>"
      ]
     },
     "metadata": {},
     "output_type": "display_data"
    }
   ],
   "source": [
    "sns.boxplot(x=df['Skill Moves'],y=df['Overall_rating'])\n",
    "plt.show()"
   ]
  },
  {
   "cell_type": "code",
   "execution_count": 113,
   "metadata": {},
   "outputs": [],
   "source": [
    "#from chart we can understand skill moves 4 and 5 have higher overall rating than other skill moves,\n",
    "#so the player with high skill will have higher overall rating\n"
   ]
  },
  {
   "cell_type": "code",
   "execution_count": 114,
   "metadata": {},
   "outputs": [
    {
     "data": {
      "text/html": [
       "<div>\n",
       "<style scoped>\n",
       "    .dataframe tbody tr th:only-of-type {\n",
       "        vertical-align: middle;\n",
       "    }\n",
       "\n",
       "    .dataframe tbody tr th {\n",
       "        vertical-align: top;\n",
       "    }\n",
       "\n",
       "    .dataframe thead th {\n",
       "        text-align: right;\n",
       "    }\n",
       "</style>\n",
       "<table border=\"1\" class=\"dataframe\">\n",
       "  <thead>\n",
       "    <tr style=\"text-align: right;\">\n",
       "      <th></th>\n",
       "      <th>date</th>\n",
       "      <th>duration</th>\n",
       "      <th>item</th>\n",
       "      <th>month</th>\n",
       "      <th>network</th>\n",
       "      <th>network_type</th>\n",
       "    </tr>\n",
       "  </thead>\n",
       "  <tbody>\n",
       "    <tr>\n",
       "      <th>0</th>\n",
       "      <td>15-10-14 6:58</td>\n",
       "      <td>221.321120</td>\n",
       "      <td>data</td>\n",
       "      <td>2014-11</td>\n",
       "      <td>data</td>\n",
       "      <td>data</td>\n",
       "    </tr>\n",
       "    <tr>\n",
       "      <th>1</th>\n",
       "      <td>15-10-14 6:58</td>\n",
       "      <td>81.610599</td>\n",
       "      <td>call</td>\n",
       "      <td>2014-11</td>\n",
       "      <td>Vodafone</td>\n",
       "      <td>mobile</td>\n",
       "    </tr>\n",
       "    <tr>\n",
       "      <th>2</th>\n",
       "      <td>15-10-14 14:46</td>\n",
       "      <td>143.109111</td>\n",
       "      <td>call</td>\n",
       "      <td>2014-11</td>\n",
       "      <td>Meteor</td>\n",
       "      <td>mobile</td>\n",
       "    </tr>\n",
       "    <tr>\n",
       "      <th>3</th>\n",
       "      <td>15-10-14 14:48</td>\n",
       "      <td>111.888670</td>\n",
       "      <td>call</td>\n",
       "      <td>2014-11</td>\n",
       "      <td>Tesco</td>\n",
       "      <td>mobile</td>\n",
       "    </tr>\n",
       "    <tr>\n",
       "      <th>4</th>\n",
       "      <td>15-10-14 17:27</td>\n",
       "      <td>246.695171</td>\n",
       "      <td>call</td>\n",
       "      <td>2014-11</td>\n",
       "      <td>Tesco</td>\n",
       "      <td>mobile</td>\n",
       "    </tr>\n",
       "  </tbody>\n",
       "</table>\n",
       "</div>"
      ],
      "text/plain": [
       "             date    duration  item    month   network network_type\n",
       "0   15-10-14 6:58  221.321120  data  2014-11      data         data\n",
       "1   15-10-14 6:58   81.610599  call  2014-11  Vodafone       mobile\n",
       "2  15-10-14 14:46  143.109111  call  2014-11    Meteor       mobile\n",
       "3  15-10-14 14:48  111.888670  call  2014-11     Tesco       mobile\n",
       "4  15-10-14 17:27  246.695171  call  2014-11     Tesco       mobile"
      ]
     },
     "execution_count": 114,
     "metadata": {},
     "output_type": "execute_result"
    }
   ],
   "source": [
    "df1=pd.read_csv('phone.csv')\n",
    "df1.head()"
   ]
  },
  {
   "cell_type": "code",
   "execution_count": 115,
   "metadata": {},
   "outputs": [
    {
     "name": "stdout",
     "output_type": "stream",
     "text": [
      "<class 'pandas.core.frame.DataFrame'>\n",
      "RangeIndex: 820 entries, 0 to 819\n",
      "Data columns (total 6 columns):\n",
      " #   Column        Non-Null Count  Dtype  \n",
      "---  ------        --------------  -----  \n",
      " 0   date          820 non-null    object \n",
      " 1   duration      820 non-null    float64\n",
      " 2   item          820 non-null    object \n",
      " 3   month         820 non-null    object \n",
      " 4   network       820 non-null    object \n",
      " 5   network_type  820 non-null    object \n",
      "dtypes: float64(1), object(5)\n",
      "memory usage: 38.6+ KB\n"
     ]
    }
   ],
   "source": [
    "df1.info()"
   ]
  },
  {
   "cell_type": "code",
   "execution_count": 116,
   "metadata": {},
   "outputs": [
    {
     "data": {
      "text/plain": [
       "date            0\n",
       "duration        0\n",
       "item            0\n",
       "month           0\n",
       "network         0\n",
       "network_type    0\n",
       "dtype: int64"
      ]
     },
     "execution_count": 116,
     "metadata": {},
     "output_type": "execute_result"
    }
   ],
   "source": [
    "df1.isnull().sum()"
   ]
  },
  {
   "cell_type": "markdown",
   "metadata": {},
   "source": [
    "a) With 95% & 99% Confidence Interval find the range estimate of average duration calls made by all the network. Which of the Intervals are wider? Interpret the results."
   ]
  },
  {
   "cell_type": "code",
   "execution_count": 117,
   "metadata": {},
   "outputs": [
    {
     "data": {
      "text/plain": [
       "Vodafone     215\n",
       "Three        215\n",
       "data         150\n",
       "Meteor        87\n",
       "Tesco         84\n",
       "landline      42\n",
       "voicemail     27\n",
       "Name: network, dtype: int64"
      ]
     },
     "execution_count": 117,
     "metadata": {},
     "output_type": "execute_result"
    }
   ],
   "source": [
    "df1['network'].value_counts()"
   ]
  },
  {
   "cell_type": "code",
   "execution_count": 118,
   "metadata": {},
   "outputs": [],
   "source": [
    "df_vodafone=df1[df1['network']=='Vodafone']['duration']\n",
    "df_three=df1[df1['network']=='Three']['duration']\n",
    "df_data=df1[df1['network']=='data']['duration']\n",
    "df_meteor=df1[df1['network']=='Meteor']['duration']\n",
    "df_tesco=df1[df1['network']=='Tesco']['duration']\n",
    "df_landline=df1[df1['network']=='landline']['duration']\n",
    "df_voicemail=df1[df1['network']=='voicemail']['duration']"
   ]
  },
  {
   "cell_type": "code",
   "execution_count": 119,
   "metadata": {},
   "outputs": [],
   "source": [
    "#assuming data as normal\n",
    "#Population std not known"
   ]
  },
  {
   "cell_type": "code",
   "execution_count": 120,
   "metadata": {},
   "outputs": [],
   "source": [
    "#confidence interval \n",
    "CI_vodafone=stats.t.interval(loc=df_vodafone.mean(),scale=df_vodafone.std()/np.sqrt(len(df_vodafone)),alpha=0.95,df=len(df_vodafone)-1)\n",
    "CI_three=stats.t.interval(loc=df_three.mean(),scale=df_three.std()/np.sqrt(len(df_three)),alpha=0.95,df=len(df_three)-1)\n",
    "CI_data=stats.t.interval(loc=df_data.mean(),scale=df_data.std()/np.sqrt(len(df_data)),alpha=0.95,df=len(df_data)-1)\n",
    "CI_meteor=stats.t.interval(loc=df_meteor.mean(),scale=df_meteor.std()/np.sqrt(len(df_meteor)),alpha=0.95,df=len(df_meteor)-1)\n",
    "CI_tesco=stats.t.interval(loc=df_tesco.mean(),scale=df_tesco.std()/np.sqrt(len(df_tesco)),alpha=0.95,df=len(df_tesco)-1)\n",
    "CI_landline=stats.t.interval(loc=df_landline.mean(),scale=df_landline.std()/np.sqrt(len(df_landline)),alpha=0.95,df=len(df_landline)-1)\n",
    "CI_voicemail=stats.t.interval(loc=df_voicemail.mean(),scale=df_voicemail.std()/np.sqrt(len(df_voicemail)),alpha=0.95,df=len(df_voicemail)-1)"
   ]
  },
  {
   "cell_type": "code",
   "execution_count": 121,
   "metadata": {},
   "outputs": [
    {
     "name": "stdout",
     "output_type": "stream",
     "text": [
      "range estimate of average duration calls made by vodafone network (143.2999143622583, 155.91262913364878)\n",
      "range estimate of average duration calls made by three network (135.44301125172115, 147.4728708673856)\n",
      "range estimate of average duration calls made by data network (134.28632285019395, 147.6509627040725)\n",
      "range estimate of average duration calls made by meteor network (129.7641544553564, 149.7498689167357)\n",
      "range estimate of average duration calls made by tesco network (135.0471063622705, 155.52790157130093)\n",
      "range estimate of average duration calls made by landline network (127.19627298930664, 156.03900893712205)\n",
      "range estimate of average duration calls made by voicemail network (137.77804893297514, 180.3696339210989)\n"
     ]
    }
   ],
   "source": [
    "#confidence interval with 95% confidence\n",
    "print(\"range estimate of average duration calls made by vodafone network\",CI_vodafone)\n",
    "print(\"range estimate of average duration calls made by three network\",CI_three)\n",
    "print(\"range estimate of average duration calls made by data network\",CI_data)\n",
    "print(\"range estimate of average duration calls made by meteor network\",CI_meteor)\n",
    "print(\"range estimate of average duration calls made by tesco network\",CI_tesco)\n",
    "print(\"range estimate of average duration calls made by landline network\",CI_landline)\n",
    "print(\"range estimate of average duration calls made by voicemail network\",CI_voicemail)"
   ]
  },
  {
   "cell_type": "code",
   "execution_count": 122,
   "metadata": {},
   "outputs": [],
   "source": [
    "#confidence interval\n",
    "CI_vodafone=stats.t.interval(loc=df_vodafone.mean(),scale=df_vodafone.std()/np.sqrt(len(df_vodafone)),alpha=0.99,df=len(df_vodafone)-1)\n",
    "CI_three=stats.t.interval(loc=df_three.mean(),scale=df_three.std()/np.sqrt(len(df_three)),alpha=0.99,df=len(df_three)-1)\n",
    "CI_data=stats.t.interval(loc=df_data.mean(),scale=df_data.std()/np.sqrt(len(df_data)),alpha=0.99,df=len(df_data)-1)\n",
    "CI_meteor=stats.t.interval(loc=df_meteor.mean(),scale=df_meteor.std()/np.sqrt(len(df_meteor)),alpha=0.99,df=len(df_meteor)-1)\n",
    "CI_tesco=stats.t.interval(loc=df_tesco.mean(),scale=df_tesco.std()/np.sqrt(len(df_tesco)),alpha=0.99,df=len(df_tesco)-1)\n",
    "CI_landline=stats.t.interval(loc=df_landline.mean(),scale=df_landline.std()/np.sqrt(len(df_landline)),alpha=0.95,df=len(df_landline)-1)\n",
    "CI_voicemail=stats.t.interval(loc=df_voicemail.mean(),scale=df_voicemail.std()/np.sqrt(len(df_voicemail)),alpha=0.99,df=len(df_voicemail)-1)"
   ]
  },
  {
   "cell_type": "code",
   "execution_count": 123,
   "metadata": {},
   "outputs": [
    {
     "name": "stdout",
     "output_type": "stream",
     "text": [
      "range estimate of average duration calls made by vodafone network (141.29105865289594, 157.92148484301114)\n",
      "range estimate of average duration calls made by three network (133.5269882059474, 149.38889391315936)\n",
      "range estimate of average duration calls made by data network (132.14496901015443, 149.79231654411203)\n",
      "range estimate of average duration calls made by meteor network (126.51547309539654, 152.99855027669554)\n",
      "range estimate of average duration calls made by tesco network (131.71384372861525, 158.8611642049562)\n",
      "range estimate of average duration calls made by landline network (127.19627298930664, 156.03900893712205)\n",
      "range estimate of average duration calls made by voicemail network (130.28567279780262, 187.86201005627143)\n"
     ]
    }
   ],
   "source": [
    "#confidence interval with 99% confidence\n",
    "print(\"range estimate of average duration calls made by vodafone network\",CI_vodafone)\n",
    "print(\"range estimate of average duration calls made by three network\",CI_three)\n",
    "print(\"range estimate of average duration calls made by data network\",CI_data)\n",
    "print(\"range estimate of average duration calls made by meteor network\",CI_meteor)\n",
    "print(\"range estimate of average duration calls made by tesco network\",CI_tesco)\n",
    "print(\"range estimate of average duration calls made by landline network\",CI_landline)\n",
    "print(\"range estimate of average duration calls made by voicemail network\",CI_voicemail)"
   ]
  },
  {
   "cell_type": "code",
   "execution_count": 124,
   "metadata": {},
   "outputs": [],
   "source": [
    "#voice mail network duration range is wider than any other network in both 95% and 99% confidence interval"
   ]
  },
  {
   "cell_type": "markdown",
   "metadata": {},
   "source": [
    "b) Perform statistical analysis to check whether the networks are equally distributed in the dataset."
   ]
  },
  {
   "cell_type": "code",
   "execution_count": 125,
   "metadata": {},
   "outputs": [
    {
     "data": {
      "text/plain": [
       "Vodafone     215\n",
       "Three        215\n",
       "data         150\n",
       "Meteor        87\n",
       "Tesco         84\n",
       "landline      42\n",
       "voicemail     27\n",
       "Name: network, dtype: int64"
      ]
     },
     "execution_count": 125,
     "metadata": {},
     "output_type": "execute_result"
    }
   ],
   "source": [
    "df1.network.value_counts()"
   ]
  },
  {
   "cell_type": "code",
   "execution_count": 126,
   "metadata": {},
   "outputs": [
    {
     "data": {
      "text/plain": [
       "0          data\n",
       "1      Vodafone\n",
       "2        Meteor\n",
       "3         Tesco\n",
       "4         Tesco\n",
       "         ...   \n",
       "815        data\n",
       "816        data\n",
       "817        data\n",
       "818    Vodafone\n",
       "819        data\n",
       "Name: network, Length: 820, dtype: object"
      ]
     },
     "execution_count": 126,
     "metadata": {},
     "output_type": "execute_result"
    }
   ],
   "source": [
    "df1.network"
   ]
  },
  {
   "cell_type": "code",
   "execution_count": 127,
   "metadata": {},
   "outputs": [],
   "source": [
    "#Ho: obs=exp  (all network are in equal proportion)\n",
    "#Ha: obs!=exp  (there is unequalin proportion)"
   ]
  },
  {
   "cell_type": "code",
   "execution_count": 128,
   "metadata": {},
   "outputs": [],
   "source": [
    "#hypothesis test\n",
    "#categorical data\n",
    "#chisquare test"
   ]
  },
  {
   "cell_type": "code",
   "execution_count": 129,
   "metadata": {},
   "outputs": [
    {
     "name": "stdout",
     "output_type": "stream",
     "text": [
      "test statistics 307.409756097561\n",
      "probability value 2.112592760257685e-63\n"
     ]
    }
   ],
   "source": [
    "#test statistics\n",
    "test_stat,pval=stats.chisquare(f_obs=[215,215,150,87,84,42,27],f_exp=[len(df1)/7])\n",
    "print('test statistics',test_stat)\n",
    "print('probability value',pval)"
   ]
  },
  {
   "cell_type": "code",
   "execution_count": 130,
   "metadata": {},
   "outputs": [
    {
     "name": "stdout",
     "output_type": "stream",
     "text": [
      "null hypothesis rejected\n",
      "there is unequal in proportion\n"
     ]
    }
   ],
   "source": [
    "#inference\n",
    "if pval<0.05:\n",
    "    print('null hypothesis rejected')\n",
    "    print('there is unequal in proportion')\n",
    "else:\n",
    "    print('fail to reject null hypothesis')\n",
    "    print('all network are in equal proportion')"
   ]
  },
  {
   "cell_type": "markdown",
   "metadata": {},
   "source": [
    "c) Plot the distribution of duration with respect to each network in the same graph and Interpret the results from the graph."
   ]
  },
  {
   "cell_type": "code",
   "execution_count": 131,
   "metadata": {},
   "outputs": [
    {
     "data": {
      "image/png": "[encoded data removed]",
      "text/plain": [
       "<Figure size 864x432 with 1 Axes>"
      ]
     },
     "metadata": {},
     "output_type": "display_data"
    }
   ],
   "source": [
    "sns.violinplot(y=df1.duration,x=df1.network)\n",
    "plt.show()"
   ]
  },
  {
   "cell_type": "code",
   "execution_count": 132,
   "metadata": {},
   "outputs": [],
   "source": [
    "# median duration value of voicemail network is higher than any other network\n",
    "# data network has more dispersion in duration and has high duration value\n",
    "# there is presence of outliers in all network\n",
    "# IQR range is high for vodafone and voicemail network"
   ]
  },
  {
   "cell_type": "markdown",
   "metadata": {},
   "source": [
    "d)\tPerform statistical tests to identify the relation between item and duration. Detailed \n",
    "explanation of relation between the classes is required.\n"
   ]
  },
  {
   "cell_type": "code",
   "execution_count": 61,
   "metadata": {},
   "outputs": [],
   "source": [
    "df_call=df1[df1.item=='call']['duration']\n",
    "df_sms=df1[df1.item=='sms']['duration']\n",
    "df_data=df1[df1.item=='data']['duration']"
   ]
  },
  {
   "cell_type": "code",
   "execution_count": 62,
   "metadata": {},
   "outputs": [],
   "source": [
    "#hypothesis:\n",
    "#Ho: all mean are equal,            no relation between item and duration\n",
    "#Ha: atleast one mean is different, there is relation between item and duration"
   ]
  },
  {
   "cell_type": "code",
   "execution_count": 63,
   "metadata": {},
   "outputs": [
    {
     "name": "stdout",
     "output_type": "stream",
     "text": [
      "ShapiroResult(statistic=0.9973042011260986, pvalue=0.7803382277488708)\n",
      "ShapiroResult(statistic=0.9943404197692871, pvalue=0.37839275598526)\n",
      "ShapiroResult(statistic=0.9912639856338501, pvalue=0.48521795868873596)\n"
     ]
    }
   ],
   "source": [
    "#checking data normality--shapiro\n",
    "#hypothesis\n",
    "#Ho: skew=0 data is normal\n",
    "#Ha: skew!=0 data is not normal\n",
    "\n",
    "#test statistics\n",
    "print(stats.shapiro(df_call))\n",
    "print(stats.shapiro(df_sms))\n",
    "print(stats.shapiro(df_data))\n",
    "#pvalues >0.05 significance level the data sets are normal"
   ]
  },
  {
   "cell_type": "code",
   "execution_count": 64,
   "metadata": {},
   "outputs": [
    {
     "name": "stdout",
     "output_type": "stream",
     "text": [
      "LeveneResult(statistic=3.4300976447008478, pvalue=0.03285087780533987)\n"
     ]
    }
   ],
   "source": [
    "#equality of variance -- levene test\n",
    "#Hypothesis:\n",
    "#Ho: all variance are equal\n",
    "#Ha: variance not equal\n",
    "\n",
    "#test statistics\n",
    "print(stats.levene(df_call,df_sms,df_data))\n",
    "#pvalue<0.05, variance are not equal"
   ]
  },
  {
   "cell_type": "code",
   "execution_count": 65,
   "metadata": {},
   "outputs": [],
   "source": [
    "#hypothesis test\n",
    "#data is normal\n",
    "#assuming variance are equal\n",
    "#one way annova test"
   ]
  },
  {
   "cell_type": "code",
   "execution_count": 66,
   "metadata": {},
   "outputs": [
    {
     "name": "stdout",
     "output_type": "stream",
     "text": [
      "test statistics 1.9313964906864995\n",
      "probability 0.1456068656611744\n"
     ]
    }
   ],
   "source": [
    "#test statistics\n",
    "test_stat,pval=stats.f_oneway(df_call,df_sms,df_data)\n",
    "print('test statistics',test_stat)\n",
    "print('probability',pval)"
   ]
  },
  {
   "cell_type": "code",
   "execution_count": 67,
   "metadata": {},
   "outputs": [
    {
     "name": "stdout",
     "output_type": "stream",
     "text": [
      "fail to reject null hypothesis\n",
      "no relation between item and duration\n"
     ]
    }
   ],
   "source": [
    "#inference\n",
    "sig_val=0.05\n",
    "if pval<0.05:\n",
    "    print('null hypothesis rejected')\n",
    "    print('there is relation between item and duration')\n",
    "else:\n",
    "    print('fail to reject null hypothesis')\n",
    "    print('no relation between item and duration')"
   ]
  },
  {
   "cell_type": "markdown",
   "metadata": {},
   "source": [
    "e)\tPerform statistical tests to identify the relation between network and network_type. "
   ]
  },
  {
   "cell_type": "code",
   "execution_count": 68,
   "metadata": {},
   "outputs": [
    {
     "data": {
      "text/html": [
       "<div>\n",
       "<style scoped>\n",
       "    .dataframe tbody tr th:only-of-type {\n",
       "        vertical-align: middle;\n",
       "    }\n",
       "\n",
       "    .dataframe tbody tr th {\n",
       "        vertical-align: top;\n",
       "    }\n",
       "\n",
       "    .dataframe thead th {\n",
       "        text-align: right;\n",
       "    }\n",
       "</style>\n",
       "<table border=\"1\" class=\"dataframe\">\n",
       "  <thead>\n",
       "    <tr style=\"text-align: right;\">\n",
       "      <th>network</th>\n",
       "      <th>Meteor</th>\n",
       "      <th>Tesco</th>\n",
       "      <th>Three</th>\n",
       "      <th>Vodafone</th>\n",
       "      <th>data</th>\n",
       "      <th>landline</th>\n",
       "      <th>voicemail</th>\n",
       "    </tr>\n",
       "    <tr>\n",
       "      <th>network_type</th>\n",
       "      <th></th>\n",
       "      <th></th>\n",
       "      <th></th>\n",
       "      <th></th>\n",
       "      <th></th>\n",
       "      <th></th>\n",
       "      <th></th>\n",
       "    </tr>\n",
       "  </thead>\n",
       "  <tbody>\n",
       "    <tr>\n",
       "      <th>data</th>\n",
       "      <td>0</td>\n",
       "      <td>0</td>\n",
       "      <td>0</td>\n",
       "      <td>0</td>\n",
       "      <td>150</td>\n",
       "      <td>0</td>\n",
       "      <td>0</td>\n",
       "    </tr>\n",
       "    <tr>\n",
       "      <th>landline</th>\n",
       "      <td>0</td>\n",
       "      <td>0</td>\n",
       "      <td>0</td>\n",
       "      <td>0</td>\n",
       "      <td>0</td>\n",
       "      <td>42</td>\n",
       "      <td>0</td>\n",
       "    </tr>\n",
       "    <tr>\n",
       "      <th>mobile</th>\n",
       "      <td>87</td>\n",
       "      <td>84</td>\n",
       "      <td>215</td>\n",
       "      <td>215</td>\n",
       "      <td>0</td>\n",
       "      <td>0</td>\n",
       "      <td>0</td>\n",
       "    </tr>\n",
       "    <tr>\n",
       "      <th>voicemail</th>\n",
       "      <td>0</td>\n",
       "      <td>0</td>\n",
       "      <td>0</td>\n",
       "      <td>0</td>\n",
       "      <td>0</td>\n",
       "      <td>0</td>\n",
       "      <td>27</td>\n",
       "    </tr>\n",
       "  </tbody>\n",
       "</table>\n",
       "</div>"
      ],
      "text/plain": [
       "network       Meteor  Tesco  Three  Vodafone  data  landline  voicemail\n",
       "network_type                                                           \n",
       "data               0      0      0         0   150         0          0\n",
       "landline           0      0      0         0     0        42          0\n",
       "mobile            87     84    215       215     0         0          0\n",
       "voicemail          0      0      0         0     0         0         27"
      ]
     },
     "execution_count": 68,
     "metadata": {},
     "output_type": "execute_result"
    }
   ],
   "source": [
    "obs=pd.crosstab(df1.network_type,df1.network)\n",
    "obs"
   ]
  },
  {
   "cell_type": "code",
   "execution_count": 69,
   "metadata": {},
   "outputs": [],
   "source": [
    "#Hypothesis:\n",
    "#Ho: data are independent(there is no relation between network and network type)\n",
    "#Ha: data are dependent (there is relation between network and network type)"
   ]
  },
  {
   "cell_type": "code",
   "execution_count": 70,
   "metadata": {},
   "outputs": [],
   "source": [
    "#test of relation\n",
    "#more than 2 categorical\n",
    "#chisquare test of contigency"
   ]
  },
  {
   "cell_type": "code",
   "execution_count": 71,
   "metadata": {},
   "outputs": [
    {
     "name": "stdout",
     "output_type": "stream",
     "text": [
      "test statistics value 2460.0\n",
      "probability value 0.0\n",
      "degrees of freedom 0.0\n",
      "expected outcome [[ 15.91463415  15.36585366  39.32926829  39.32926829  27.43902439\n",
      "    7.68292683   4.93902439]\n",
      " [  4.45609756   4.30243902  11.01219512  11.01219512   7.68292683\n",
      "    2.15121951   1.38292683]\n",
      " [ 63.76463415  61.56585366 157.57926829 157.57926829 109.93902439\n",
      "   30.78292683  19.78902439]\n",
      " [  2.86463415   2.76585366   7.07926829   7.07926829   4.93902439\n",
      "    1.38292683   0.88902439]]\n"
     ]
    }
   ],
   "source": [
    "#test statistics\n",
    "test_stat,pval,dof,exp=stats.chi2_contingency(obs)\n",
    "print('test statistics value',test_stat)\n",
    "print('probability value',pval)\n",
    "print('degrees of freedom',pval)\n",
    "print('expected outcome',exp)"
   ]
  },
  {
   "cell_type": "code",
   "execution_count": 72,
   "metadata": {},
   "outputs": [
    {
     "name": "stdout",
     "output_type": "stream",
     "text": [
      "null hypothesis rejected\n",
      "there is relation between network and network type\n"
     ]
    }
   ],
   "source": [
    "#inference\n",
    "sig_val=0.05\n",
    "if pval<0.05:\n",
    "    print('null hypothesis rejected')\n",
    "    print('there is relation between network and network type')\n",
    "else:\n",
    "    print('fail to reject null hypothesis')\n",
    "    print('there is no relation between network and network type')"
   ]
  },
  {
   "cell_type": "code",
   "execution_count": null,
   "metadata": {},
   "outputs": [],
   "source": []
  },
  {
   "cell_type": "code",
   "execution_count": null,
   "metadata": {},
   "outputs": [],
   "source": []
  },
  {
   "cell_type": "code",
   "execution_count": null,
   "metadata": {},
   "outputs": [],
   "source": []
  },
  {
   "cell_type": "code",
   "execution_count": null,
   "metadata": {},
   "outputs": [],
   "source": []
  },
  {
   "cell_type": "code",
   "execution_count": null,
   "metadata": {},
   "outputs": [],
   "source": []
  },
  {
   "cell_type": "code",
   "execution_count": null,
   "metadata": {},
   "outputs": [],
   "source": []
  }
 ],
 "metadata": {
  "kernelspec": {
   "display_name": "Python 3 (ipykernel)",
   "language": "python",
   "name": "python3"
  },
  "language_info": {
   "codemirror_mode": {
    "name": "ipython",
    "version": 3
   },
   "file_extension": ".py",
   "mimetype": "text/x-python",
   "name": "python",
   "nbconvert_exporter": "python",
   "pygments_lexer": "ipython3",
   "version": "3.9.7"
  }
 },
 "nbformat": 4,
 "nbformat_minor": 4
}
